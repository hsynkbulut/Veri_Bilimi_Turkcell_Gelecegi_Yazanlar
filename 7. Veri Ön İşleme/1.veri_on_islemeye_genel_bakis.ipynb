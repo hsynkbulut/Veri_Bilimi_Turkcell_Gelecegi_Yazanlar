{
 "cells": [
  {
   "cell_type": "markdown",
   "metadata": {},
   "source": [
    "### "
   ]
  },
  {
   "cell_type": "markdown",
   "metadata": {},
   "source": [
    "### *Veri Ön İşlemeye Genel Bakış*\n",
    "Makine Öğrenmesi modelinin amacı genellenebilir yapılar ortaya koymaktır. Belirli olaylar gözlendiğinde belirli tahmin sonuçları vermektir.\n",
    "\n",
    "Makine öğrenmesi modelleri veriden baslenmektedir. Dolayısıyla veri ne kadar iyi olursa modellerin de o kadar iyi olabileceği ifade edilmektedir.\n",
    "\n",
    "> _Eğer veriniz kötü ise, makine öğrenmesi araçlarınız kullanışsız olacaktır._  **- _Thomas C. Redman_**\n",
    "\n",
    "#### *Veri Ön İşlemede Ele Alınacak Konular/Yöntemler*\n",
    "- Veri Temizleme (data cleaning / cleasing)\n",
    "    - Gürültülü Veri\n",
    "    - Eksik Veri Analizi\n",
    "    - Aykırı Gözlem Analizi\n",
    "- Veri Standardizasyonu \n",
    "    - 0-1 Dönüşümü\n",
    "    - z-skoruna Dönüştürme\n",
    "    - Logaritmik Dönüşüm\n",
    "- Veri İndirgeme\n",
    "    - Gözlem Sayısının Azaltılması\n",
    "    - Değişken Sayısının Azaltılması\n",
    "- Değişken Dönüşümleri\n",
    "    - Sürekli değişkenlerde dönüşümler\n",
    "    - Kategorik değişkenlerde dönüşümler\n",
    "\n",
    "Gürültülü Veri: Örneğin veri seti içerisinde cinsiyeti erkek olan bir kişinin aynı zamanda hamilelikle ilgili bir değişkende hamile olduğunun ifade edilmesi durumu bir gürültüdür, yanlış bir veridir. Aynı şekilde bir bebek biberonu fiyatının 1.000.000 TL olması durumu da gürültülü, yanlış, bozuk bir durumdur. Yani bu bir aykırı durum değildir, bozuk bir durumdur.\n",
    "\n",
    "Eksik Veri: Verideki eksiklikler\n",
    "\n",
    "Aykırı Gözlem: Verideki aykırılıklar \n",
    "\n",
    "Veri Standardizasyonu: Elimizdeki değişkenleri, verileri çeşitli dönüştürme işlemlerine tabii tutmakta, yine veri ön işlemeyle ilgili işlemlerdendir.\n",
    "\n",
    "Veri İndirgeme: Gözlem sayısında ya da değişken sayısında veri setinin indirgenmesini ifade etmektedir.\n",
    "\n",
    "Değişken Dönüşümleri: Sürekli değişkenleri kategorik değişkenlere çevirmek gibi ya da kategorik değişkenlerin sınıfları arasında değişimler yapmak gibi işlemler."
   ]
  }
 ],
 "metadata": {
  "language_info": {
   "name": "python"
  },
  "orig_nbformat": 4
 },
 "nbformat": 4,
 "nbformat_minor": 2
}
