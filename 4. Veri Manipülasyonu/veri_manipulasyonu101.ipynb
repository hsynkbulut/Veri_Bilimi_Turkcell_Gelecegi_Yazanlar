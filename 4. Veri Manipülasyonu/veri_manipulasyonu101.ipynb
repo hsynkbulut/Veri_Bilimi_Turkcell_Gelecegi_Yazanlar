{
 "cells": [
  {
   "cell_type": "markdown",
   "metadata": {},
   "source": [
    "![veribilimisureci](../images/veri_manipulasyonu/veri_bilimi_sureci.jpg)"
   ]
  },
  {
   "cell_type": "markdown",
   "metadata": {},
   "source": [
    "### *Introduction to Numpy*\n",
    "- *Numpy: Numerical Python*\n",
    "- *Bilimsel hesaplamalar için kullanılır.*\n",
    "- *Arrayler / çok boyutlu arrayler ve matrisler üzerinde yüksek performanslı çalışma imkanı sağlar.*\n",
    "- *Temelleri 1995'te (matrix-sig, Guido Van Rossum) atılmış nihai olarak 2005 (Travis Oliphant) yılında hayata geçmiştir.*\n",
    "- *Listelere benzerdir, farkı; verimli veri saklama ve vektörel operasyonlardır.*\n",
    "- *Listelerde her bir eleman için ayrı bilgi tutmak gerekirken Numpy'da ise sabit tek bir bilgi tutuluyor*"
   ]
  },
  {
   "cell_type": "code",
   "execution_count": 2,
   "metadata": {},
   "outputs": [],
   "source": [
    "# Numpy kütüphanesini çağıralım\n",
    "import numpy as np"
   ]
  },
  {
   "cell_type": "markdown",
   "metadata": {},
   "source": [
    "### *Creating a Numpy Array*"
   ]
  },
  {
   "cell_type": "code",
   "execution_count": 3,
   "metadata": {},
   "outputs": [
    {
     "name": "stdout",
     "output_type": "stream",
     "text": [
      "<class 'numpy.ndarray'>\n",
      "[ 2  6 12 20]\n"
     ]
    }
   ],
   "source": [
    "import numpy as np\n",
    "\n",
    "a = np.array([1,2,3,4])\n",
    "b = np.array([2,3,4,5])\n",
    "\n",
    "print(type(a))\n",
    "\n",
    "print(a * b)"
   ]
  },
  {
   "cell_type": "code",
   "execution_count": 4,
   "metadata": {},
   "outputs": [
    {
     "data": {
      "text/plain": [
       "array([ 3,  4,  2, 13])"
      ]
     },
     "execution_count": 4,
     "metadata": {},
     "output_type": "execute_result"
    }
   ],
   "source": [
    "import numpy as np\n",
    "\n",
    "# dtype: array veri tipi\n",
    "np.array([3.14, 4, 2, 13], dtype= \"int\")"
   ]
  },
  {
   "cell_type": "markdown",
   "metadata": {},
   "source": [
    "### *Creating an array from scratch*"
   ]
  },
  {
   "cell_type": "code",
   "execution_count": 5,
   "metadata": {},
   "outputs": [
    {
     "name": "stdout",
     "output_type": "stream",
     "text": [
      "npZeros: \n",
      " [0 0 0 0 0 0 0 0 0 0]\n",
      "****************************************\n",
      "npOnes: \n",
      " [[1 1 1 1 1]\n",
      " [1 1 1 1 1]\n",
      " [1 1 1 1 1]]\n",
      "****************************************\n",
      "npFull: \n",
      " [[2 2 2 2 2]\n",
      " [2 2 2 2 2]\n",
      " [2 2 2 2 2]]\n",
      "****************************************\n",
      "npArange: \n",
      " [ 0  3  6  9 12 15 18 21 24 27 30]\n",
      "****************************************\n"
     ]
    }
   ],
   "source": [
    "import numpy as np\n",
    "\n",
    "# zeros(): sıfırlardan oluşan dizi oluşturur\n",
    "npZeros = np.zeros(10, dtype= int) # 10 tane integer 0'dan oluşuyor\n",
    "print(\"npZeros: \\n\", npZeros)\n",
    "print(\"*\" * 40)\n",
    "\n",
    "# ones(): birlerden oluşan dizi oluşturur\n",
    "npOnes = np.ones((3,5), dtype=int) # 3 satır 5 sütundan oluşan birim matris (hepsi birlerden oluşan) oluşuyor\n",
    "print(\"npOnes: \\n\", npOnes)\n",
    "print(\"*\" * 40)\n",
    "\n",
    "# full(): 1 dışında başka bir sayıyla doldurmak istiyorum diyorsanız bunu kullanın\n",
    "npFull = np.full((3,5), 2) # 3 satır 2 sütun var ve hepsinde 2 yazıyor\n",
    "print(\"npFull: \\n\", npFull)\n",
    "print(\"*\" * 40)\n",
    "\n",
    "# arange(): Verilen aralıkta doğrusal bir dizi oluşturur\n",
    "npArange = np.arange(0, 31, 3) # 0'dan 31'e kadar üçer üçer artan bir dizi\n",
    "print(\"npArange: \\n\", npArange)\n",
    "print(\"*\" * 40)"
   ]
  },
  {
   "cell_type": "code",
   "execution_count": 6,
   "metadata": {},
   "outputs": [
    {
     "name": "stdout",
     "output_type": "stream",
     "text": [
      "npLinspace: \n",
      " [0.         0.11111111 0.22222222 0.33333333 0.44444444 0.55555556\n",
      " 0.66666667 0.77777778 0.88888889 1.        ]\n",
      "****************************************\n",
      "npRandNor: \n",
      " [[ 3.34679205  6.24834606 10.92842964  7.84200351]\n",
      " [15.47809857 13.33874519 13.00141068  9.91638037]\n",
      " [ 8.64387767  0.9606399  12.44539207  8.53121361]]\n",
      "****************************************\n",
      "npRandRan: \n",
      " [[5 7 6]\n",
      " [4 1 5]\n",
      " [9 0 8]]\n",
      "****************************************\n"
     ]
    }
   ],
   "source": [
    "import numpy as np\n",
    "\n",
    "# linspace(): Belli iki değer arasında belirli sayı kadar değer oluşturur\n",
    "npLinspace = np.linspace(0, 1, 10) # 0-1 arasında 10 tane değer oluşuyor\n",
    "print(\"npLinspace: \\n\", npLinspace)\n",
    "print(\"*\" * 40)\n",
    "\n",
    "# random.normal(): İstediğimiz bir dağılım özelliği taşıyacak şekilde arrayler oluşturur\n",
    "npRandNor = np.random.normal(10, 4, (3, 4)) # Ortalaması 10, standart sapması 4 olan 3'e 4'lük bir matris oluşturdu\n",
    "print(\"npRandNor: \\n\", npRandNor)\n",
    "print(\"*\" * 40)\n",
    "\n",
    "# random.randint(): Belirli iki değer arasında rastgele dizi oluşturur\n",
    "npRandRan = np.random.randint(0, 10, (3, 3)) # 0-10 arasında rastgele 3'e 3'lük bir matris oluşturur\n",
    "print(\"npRandRan: \\n\", npRandRan)\n",
    "print(\"*\" * 40)"
   ]
  },
  {
   "cell_type": "markdown",
   "metadata": {},
   "source": [
    "### *Numpy Array Attributes*\n",
    "- *ndim: boyut sayısı*\n",
    "- *shape: boyut bilgisi*\n",
    "- *size: toplam eleman sayısı*\n",
    "- *dtype: array veri tipi*"
   ]
  },
  {
   "cell_type": "code",
   "execution_count": 9,
   "metadata": {},
   "outputs": [
    {
     "name": "stdout",
     "output_type": "stream",
     "text": [
      "Boyut sayısı: 2\n",
      "Boyut bilgisi: (3, 5)\n",
      "Toplam eleman sayısı: 15\n",
      "Array veri tipi: int32\n"
     ]
    }
   ],
   "source": [
    "import numpy as np\n",
    "\n",
    "z = np.random.randint(10, size= (3,5))\n",
    "\n",
    "print(\"Boyut sayısı:\", z.ndim)\n",
    "print(\"Boyut bilgisi:\", z.shape)\n",
    "print(\"Toplam eleman sayısı:\", z.size)\n",
    "print(\"Array veri tipi:\", z.dtype)"
   ]
  },
  {
   "cell_type": "markdown",
   "metadata": {},
   "source": [
    "### *Reshaping*"
   ]
  },
  {
   "cell_type": "code",
   "execution_count": 20,
   "metadata": {},
   "outputs": [
    {
     "name": "stdout",
     "output_type": "stream",
     "text": [
      " arn: \n",
      " [1 2 3 4 5 6 7 8 9]\n",
      "Boyut sayısı: 1\n",
      "Boyut bilgisi: (9,)\n",
      "\n",
      " new_arn: \n",
      " [[1 2 3]\n",
      " [4 5 6]\n",
      " [7 8 9]]\n",
      "Boyut sayısı: 2\n",
      "Boyut bilgisi: (3, 3)\n"
     ]
    }
   ],
   "source": [
    "import numpy as np\n",
    "\n",
    "# Verilen aralıkta doğrusal bir dizi oluşturalım\n",
    "arn = np.arange(1,10)\n",
    "print(\" arn: \\n\", arn)\n",
    "print(\"Boyut sayısı:\", arn.ndim)\n",
    "print(\"Boyut bilgisi:\", arn.shape)\n",
    "\n",
    "# reshape() ile yeniden şekillendirelim ve 3'e 3'lük bir matris yapalım\n",
    "new_arn = np.arange(1,10).reshape((3,3))\n",
    "print(\"\\n new_arn: \\n\", new_arn)\n",
    "print(\"Boyut sayısı:\", new_arn.ndim)\n",
    "print(\"Boyut bilgisi:\", new_arn.shape)"
   ]
  },
  {
   "cell_type": "markdown",
   "metadata": {},
   "source": [
    "### *Concantenation*\n",
    "- *axis: eksen*\n",
    "- *axis= 0 Satır ekseni*\n",
    "- *axis= 1 Sütun ekseni*"
   ]
  },
  {
   "cell_type": "code",
   "execution_count": 24,
   "metadata": {},
   "outputs": [
    {
     "name": "stdout",
     "output_type": "stream",
     "text": [
      "[1 2 3 4 5 6] \n",
      "\n",
      "[[1 2 3]\n",
      " [4 5 6]\n",
      " [1 2 3]\n",
      " [4 5 6]] \n",
      "\n",
      "[[1 2 3 1 2 3]\n",
      " [4 5 6 4 5 6]]\n"
     ]
    }
   ],
   "source": [
    "import numpy as np\n",
    "\n",
    "# Tek boyutta birleştirme\n",
    "x = np.array([1,2,3])\n",
    "y = np.array([4,5,6])\n",
    "\n",
    "xy = np.concatenate([x, y])\n",
    "print(xy, \"\\n\")\n",
    "\n",
    "# İki boyutta birleştirme\n",
    "a = np.array([[1,2,3], \n",
    "              [4,5,6]])\n",
    "\n",
    "# Satır bazında birleştirme yapalım\n",
    "satir = np.concatenate([a,a])\n",
    "print(satir, \"\\n\")\n",
    "\n",
    "# Sütun bazında birleştirme yapalım\n",
    "sutun = np.concatenate([a,a], axis= 1)\n",
    "print(sutun)"
   ]
  },
  {
   "cell_type": "markdown",
   "metadata": {},
   "source": [
    "### *Splitting*"
   ]
  },
  {
   "cell_type": "code",
   "execution_count": 32,
   "metadata": {},
   "outputs": [
    {
     "name": "stdout",
     "output_type": "stream",
     "text": [
      "a: [1 2 3]\n",
      "b: [99 99]\n",
      "c: [3 2 1]\n"
     ]
    }
   ],
   "source": [
    "import numpy as np\n",
    "\n",
    "# Tek Boyutlu Array Ayırma\n",
    "x = np.array([1,2,3,99,99,3,2,1])\n",
    "\n",
    "# Dizimizi 3 parçaya ayıralım. İlk parçası 3'e kadar, 2.parça 5'e kadar olanlardan boşta kalanları seçilsin diyoruz.\n",
    "a, b, c = np.split(x, [3,5])\n",
    "print(\"a:\", a)\n",
    "print(\"b:\", b)\n",
    "print(\"c:\", c)"
   ]
  },
  {
   "cell_type": "code",
   "execution_count": 36,
   "metadata": {},
   "outputs": [
    {
     "name": "stdout",
     "output_type": "stream",
     "text": [
      "m: \n",
      " [[ 0  1  2  3]\n",
      " [ 4  5  6  7]\n",
      " [ 8  9 10 11]\n",
      " [12 13 14 15]]\n",
      "\n",
      "ust: \n",
      " [[0 1 2 3]\n",
      " [4 5 6 7]]\n",
      "\n",
      "alt: \n",
      " [[ 8  9 10 11]\n",
      " [12 13 14 15]]\n"
     ]
    }
   ],
   "source": [
    "import numpy as np\n",
    "\n",
    "# İki Boyutlu Array Ayırma\n",
    "m = np.arange(16).reshape(4,4)\n",
    "print(\"m: \\n\", m, end='\\n\\n')\n",
    "\n",
    "# vsplit: dikey olarak ayırıyor\n",
    "ust, alt = np.vsplit(m, [2])\n",
    "print(\"ust: \\n\", ust, end='\\n\\n')\n",
    "print(\"alt: \\n\", alt)"
   ]
  },
  {
   "cell_type": "code",
   "execution_count": 39,
   "metadata": {},
   "outputs": [
    {
     "name": "stdout",
     "output_type": "stream",
     "text": [
      "m: \n",
      " [[ 0  1  2  3]\n",
      " [ 4  5  6  7]\n",
      " [ 8  9 10 11]\n",
      " [12 13 14 15]]\n",
      "\n",
      "sol: \n",
      " [[ 0  1]\n",
      " [ 4  5]\n",
      " [ 8  9]\n",
      " [12 13]]\n",
      "\n",
      "sağ: \n",
      " [[ 2  3]\n",
      " [ 6  7]\n",
      " [10 11]\n",
      " [14 15]]\n"
     ]
    }
   ],
   "source": [
    "import numpy as np\n",
    "\n",
    "# İki Boyutlu Array Ayırma\n",
    "m = np.arange(16).reshape(4,4)\n",
    "print(\"m: \\n\", m, end='\\n\\n')\n",
    "\n",
    "# hsplit: yatay olarak ayırıyor\n",
    "sol, sag = np.hsplit(m, [2])\n",
    "print(\"sol: \\n\", sol, end='\\n\\n')\n",
    "print(\"sağ: \\n\", sag)"
   ]
  },
  {
   "cell_type": "markdown",
   "metadata": {},
   "source": [
    "### *Sorting*"
   ]
  },
  {
   "cell_type": "code",
   "execution_count": 49,
   "metadata": {},
   "outputs": [
    {
     "name": "stdout",
     "output_type": "stream",
     "text": [
      "Tek boyutlu array: \n",
      " [2 1 4 3 5]\n",
      "\n",
      "Tek boyutlu sıralama: \n",
      " [1 2 3 4 5]\n",
      "\n",
      "İki boyutlu array: \n",
      " [[27.68963846 12.92301052 21.93059795]\n",
      " [24.83057451 24.40878577 12.72871819]\n",
      " [30.77772518 18.49976317 19.4406841 ]]\n",
      "\n",
      "İki boyutlu sıralama: \n",
      " [[12.92301052 21.93059795 27.68963846]\n",
      " [12.72871819 24.40878577 24.83057451]\n",
      " [18.49976317 19.4406841  30.77772518]]\n"
     ]
    }
   ],
   "source": [
    "import numpy as np\n",
    "\n",
    "# Tek boyutlu array sıralama\n",
    "v = np.array([2,1,4,3,5])\n",
    "print(\"Tek boyutlu array: \\n\", v, end=\"\\n\\n\")\n",
    "\n",
    "vs = np.sort(v)\n",
    "print(\"Tek boyutlu sıralama: \\n\", vs, end=\"\\n\\n\")\n",
    "\n",
    "# İki boyutlu array sıralama\n",
    "m = np.random.normal(20,5, (3,3))\n",
    "print(\"İki boyutlu array: \\n\", m, end=\"\\n\\n\")\n",
    "\n",
    "ms = np.sort(m, axis= 1)\n",
    "print(\"İki boyutlu sıralama: \\n\", ms)"
   ]
  },
  {
   "cell_type": "markdown",
   "metadata": {},
   "source": [
    "### *Accessing Elements with Index*"
   ]
  },
  {
   "cell_type": "code",
   "execution_count": 56,
   "metadata": {},
   "outputs": [
    {
     "name": "stdout",
     "output_type": "stream",
     "text": [
      "[ 4  9 10 11  7  8]\n",
      "4\n",
      "8\n",
      "[100   9  10  11   7   8]\n"
     ]
    }
   ],
   "source": [
    "import numpy as np\n",
    "\n",
    "a = np.random.randint(12, size=6)\n",
    "\n",
    "print(a)\n",
    "print(a[0])\n",
    "print(a[-1])\n",
    "\n",
    "a[0] = 100\n",
    "print(a)"
   ]
  },
  {
   "cell_type": "code",
   "execution_count": 63,
   "metadata": {},
   "outputs": [
    {
     "name": "stdout",
     "output_type": "stream",
     "text": [
      "[[ 1  1 10  5  3]\n",
      " [ 0  3 11  6  8]\n",
      " [ 3  8  4  1  0]]\n",
      "\n",
      "0\n",
      "\n",
      "[[ 1  1 10  5  3]\n",
      " [ 0  3 11 97  8]\n",
      " [ 3  8  4  1  0]]\n"
     ]
    }
   ],
   "source": [
    "import numpy as np\n",
    "\n",
    "m = np.random.randint(12, size= (3,5))\n",
    "print(m, end=\"\\n\\n\")\n",
    "print(m[2,4], end=\"\\n\\n\")\n",
    "\n",
    "m[1,3] = 97\n",
    "print(m)"
   ]
  },
  {
   "cell_type": "markdown",
   "metadata": {},
   "source": [
    "### *Accessing elements with slicing (Array Subset Operations)*"
   ]
  },
  {
   "cell_type": "code",
   "execution_count": 71,
   "metadata": {},
   "outputs": [
    {
     "name": "stdout",
     "output_type": "stream",
     "text": [
      "Doğrusal dizi: [20 21 22 23 24 25 26 27 28 29]\n",
      "\n",
      "Dizinin ilk 3 elemanı: [20 21 22]\n",
      "Özel alt küme: [22 24 26]\n"
     ]
    }
   ],
   "source": [
    "# Slicing ile Array alt kümesine erişmek\n",
    "import numpy as np\n",
    "\n",
    "# 20-30 aralığında doğrusal bir dizi oluşturalım\n",
    "a = np.arange(20,30)\n",
    "print(\"Doğrusal dizi:\", a, end=\"\\n\\n\")\n",
    "print(\"Dizinin ilk 3 elemanı:\", a[0:3])\n",
    "\n",
    "# 2.indexten 8.index'e kadar üçer üçer artacak şekilde olanlara erişelim\n",
    "print(\"Özel alt küme:\", a[2:8:2])"
   ]
  },
  {
   "cell_type": "code",
   "execution_count": 77,
   "metadata": {},
   "outputs": [
    {
     "name": "stdout",
     "output_type": "stream",
     "text": [
      "[[3 9 3 2 4]\n",
      " [9 6 7 1 4]\n",
      " [8 4 9 8 6]\n",
      " [6 2 6 2 3]\n",
      " [0 7 4 2 9]]\n",
      "\n",
      "1.sütundaki tüm satırlar:  [9 6 4 2 7]\n",
      "3.satırdaki tüm sütunlar:  [6 2 6 2 3]\n",
      "\n",
      "0.satırdan 2.satıra ve 0.sütundan 3.sütuna kadar olanlar: \n",
      " [[3 9 3]\n",
      " [9 6 7]]\n"
     ]
    }
   ],
   "source": [
    "import numpy as np\n",
    "\n",
    "# İki boyutlu slice işlemleri\n",
    "m = np.random.randint(10, size= (5,5))\n",
    "print(m, end=\"\\n\\n\")\n",
    "print(\"1.sütundaki tüm satırlar: \", m[:,1])\n",
    "print(\"3.satırdaki tüm sütunlar: \", m[3,:])\n",
    "print(\"\\n0.satırdan 2.satıra ve 0.sütundan 3.sütuna kadar olanlar: \\n\", m[0:2, 0:3])\n"
   ]
  },
  {
   "cell_type": "markdown",
   "metadata": {},
   "source": [
    "### *Fancy Index*\n",
    "*Daha ileri düzeyde elemanlara erişmeyi sağlıyor.*"
   ]
  },
  {
   "cell_type": "code",
   "execution_count": 83,
   "metadata": {},
   "outputs": [
    {
     "name": "stdout",
     "output_type": "stream",
     "text": [
      "[ 0  3  6  9 12 15 18 21 24 27]\n",
      "\n",
      "Indexlere normal erişim ile 1,3,5.indexleri getirelim:\n",
      "[3, 9, 15]\n",
      "\n",
      "Fancy Index ile 1,3,5.indexleri getirelim:\n",
      "[ 3  9 15]\n"
     ]
    }
   ],
   "source": [
    "import numpy as np\n",
    "\n",
    "v = np.arange(0, 30, 3)\n",
    "print(v)\n",
    "\n",
    "# Indexlere erişim ile\n",
    "print(\"\\nIndexlere normal erişim ile 1,3,5.indexleri getirelim:\")\n",
    "print([v[1], v[3], v[5]])\n",
    "\n",
    "# Fancy Index ile\n",
    "al_getir = [1, 3, 5]\n",
    "print(\"\\nFancy Index ile 1,3,5.indexleri getirelim:\")\n",
    "print(v[al_getir])"
   ]
  },
  {
   "cell_type": "code",
   "execution_count": 90,
   "metadata": {},
   "outputs": [
    {
     "name": "stdout",
     "output_type": "stream",
     "text": [
      "İki boyutlu dizi: \n",
      " [[0 1 2]\n",
      " [3 4 5]\n",
      " [6 7 8]]\n",
      "0-1.Satırlar arası ile 1-2.Sütunlar arasındaki elemanlar:  [1 5]\n"
     ]
    }
   ],
   "source": [
    "import numpy as np\n",
    "\n",
    "# İki boyutta Fancy Index\n",
    "m = np.arange(9).reshape((3,3))\n",
    "print(\"İki boyutlu dizi: \\n\",m)\n",
    "\n",
    "satir = np.array([0,1])\n",
    "sutun = np.array([1,2])\n",
    "print(\"0-1.Satırlar arası ile 1-2.Sütunlar arasındaki elemanlar: \", m[satir, sutun])"
   ]
  },
  {
   "cell_type": "code",
   "execution_count": 94,
   "metadata": {},
   "outputs": [
    {
     "name": "stdout",
     "output_type": "stream",
     "text": [
      "[1 2]\n",
      "\n",
      "[[1 2]\n",
      " [4 5]\n",
      " [7 8]]\n",
      "\n"
     ]
    }
   ],
   "source": [
    "import numpy as np\n",
    "m = np.arange(9).reshape((3,3))\n",
    "\n",
    "# Basit index ile Fancy Index'i bir arada kullanma\n",
    "print(m[0, [1,2]], end=\"\\n\\n\")\n",
    "\n",
    "# Slice ile Fancy Index'i bir arada kullanma\n",
    "print(m[0:, [1,2]], end=\"\\n\\n\")"
   ]
  },
  {
   "cell_type": "markdown",
   "metadata": {},
   "source": [
    "### *Conditional Element Operations*"
   ]
  },
  {
   "cell_type": "code",
   "execution_count": 95,
   "metadata": {},
   "outputs": [
    {
     "name": "stdout",
     "output_type": "stream",
     "text": [
      "[ True  True False False False]\n",
      "[1 2]\n",
      "[3 4 5]\n",
      "[1 2 4 5]\n",
      "[ 1  4  9 16 25]\n"
     ]
    }
   ],
   "source": [
    "import numpy as np\n",
    "v = np.array([1,2,3,4,5])\n",
    "\n",
    "print(v < 3)\n",
    "print(v[v < 3])\n",
    "print(v[v >= 3])\n",
    "print(v[v != 3])"
   ]
  },
  {
   "cell_type": "markdown",
   "metadata": {},
   "source": [
    "### *Introduction to Mathematical Operations*"
   ]
  },
  {
   "cell_type": "code",
   "execution_count": 101,
   "metadata": {},
   "outputs": [
    {
     "name": "stdout",
     "output_type": "stream",
     "text": [
      "[0 1 2 3 4]\n",
      "[ 6  7  8  9 10]\n",
      "[ 5 10 15 20 25]\n",
      "[0.2 0.4 0.6 0.8 1. ]\n",
      "[  1   8  27  64 125]\n",
      "[1 0 1 0 1]\n"
     ]
    }
   ],
   "source": [
    "import numpy as np\n",
    "v = np.array([1,2,3,4,5])\n",
    "\n",
    "print(v - 1)\n",
    "print(v + 5)\n",
    "print(v * 5)\n",
    "print(v / 5)\n",
    "print(v**3)\n",
    "print(v % 2)"
   ]
  },
  {
   "cell_type": "markdown",
   "metadata": {},
   "source": [
    "- *subtract(): çıkarma işlemi*\n",
    "- *add(): toplama işlemi*\n",
    "- *multiply(): çarpma işlemi*\n",
    "- *divide(): bölme işlemi*\n",
    "- *power(): üs alma işlemi*\n",
    "- *mod(): bölümden kalan bulma işlemi*\n",
    "- *absolute(): Mutlak değer alma işlemi*"
   ]
  },
  {
   "cell_type": "code",
   "execution_count": 110,
   "metadata": {},
   "outputs": [
    {
     "name": "stdout",
     "output_type": "stream",
     "text": [
      "Çıkarma:  [0 1 2 3 4]\n",
      "Toplama:  [ 6  7  8  9 10]\n",
      "Çarpma:  [ 5 10 15 20 25]\n",
      "Bölme:  [0.2 0.4 0.6 0.8 1. ]\n",
      "Üs alma:  [  1   8  27  64 125]\n",
      "Kalan bulma:  [1 0 1 0 1]\n",
      "Mutlak değer alma:  [3]\n"
     ]
    }
   ],
   "source": [
    "import numpy as np\n",
    "v = np.array([1,2,3,4,5])\n",
    "\n",
    "print(\"Çıkarma: \", np.subtract(v, 1))\n",
    "print(\"Toplama: \", np.add(v, 5))\n",
    "print(\"Çarpma: \", np.multiply(v, 5))\n",
    "print(\"Bölme: \", np.divide(v, 5))\n",
    "print(\"Üs alma: \", np.power(v, 3))\n",
    "print(\"Kalan bulma: \", np.mod(v, 2))\n",
    "print(\"Mutlak değer alma: \", np.absolute(np.array([-3])))"
   ]
  },
  {
   "cell_type": "markdown",
   "metadata": {},
   "source": [
    "### *Other Mathematical Operations*"
   ]
  },
  {
   "cell_type": "code",
   "execution_count": 121,
   "metadata": {},
   "outputs": [
    {
     "name": "stdout",
     "output_type": "stream",
     "text": [
      "Sinüs alma: 0.9589157234143065\n",
      "Cosinüs alma: -0.5984600690578581\n",
      "Logaritma e tabanında alma: [0.         0.69314718 1.09861229]\n",
      "Logaritma 2 tabanında alma: [0.        1.        1.5849625]\n"
     ]
    }
   ],
   "source": [
    "import numpy as np\n",
    "\n",
    "print(\"Sinüs alma:\", np.sin(360))\n",
    "print(\"Cosinüs alma:\", np.cos(180))\n",
    "\n",
    "v = np.array([1,2,3])\n",
    "print(\"Logaritma e tabanında alma:\", np.log(v))\n",
    "print(\"Logaritma 2 tabanında alma:\", np.log2(v))\n"
   ]
  },
  {
   "cell_type": "markdown",
   "metadata": {},
   "source": [
    "### *Statistical Calculations*"
   ]
  },
  {
   "cell_type": "code",
   "execution_count": 124,
   "metadata": {},
   "outputs": [
    {
     "name": "stdout",
     "output_type": "stream",
     "text": [
      "Ortalama:  3.0\n",
      "Toplam:  15\n",
      "En küçük değer:  1\n",
      "En büyük değer:  5\n",
      "Varyans:  2.0\n",
      "Standart Sapma:  1.4142135623730951\n"
     ]
    }
   ],
   "source": [
    "import numpy as np\n",
    "v = np.array([1,2,3,4,5])\n",
    "\n",
    "print(\"Ortalama: \", np.mean(v))\n",
    "print(\"Toplam: \", v.sum())\n",
    "print(\"En küçük değer: \", v.min())\n",
    "print(\"En büyük değer: \", v.max())\n",
    "print(\"Varyans: \", np.var(v))\n",
    "print(\"Standart Sapma: \", np.std(v))"
   ]
  },
  {
   "cell_type": "markdown",
   "metadata": {},
   "source": [
    "### *Solving Equations with Two Unknowns with Numpy*\n",
    "\n",
    "Örn:\n",
    "\n",
    "5 * x0 + x1 = 12\n",
    "\n",
    "x0 + 3 * x1 = 10"
   ]
  },
  {
   "cell_type": "code",
   "execution_count": 128,
   "metadata": {},
   "outputs": [
    {
     "name": "stdout",
     "output_type": "stream",
     "text": [
      "x0: 1.857142857142857\n",
      "x1: 2.7142857142857144\n"
     ]
    }
   ],
   "source": [
    "import numpy as np\n",
    "\n",
    "a = np.array([[5,1], [1,3]])\n",
    "b = np.array([12,10])\n",
    "\n",
    "x0, x1 = np.linalg.solve(a, b)\n",
    "print(\"x0:\", x0)\n",
    "print(\"x1:\", x1)"
   ]
  },
  {
   "cell_type": "markdown",
   "metadata": {},
   "source": [
    "### *Creating a three-dimensional array*\n",
    "*np.random.randint(Rastgele üretilen sayıların olduğu aralık, size = (arka arkaya kaç tane olacağının sayısı, Satır Sayısı, Sütun Sayısı))*"
   ]
  },
  {
   "cell_type": "code",
   "execution_count": 6,
   "metadata": {},
   "outputs": [
    {
     "name": "stdout",
     "output_type": "stream",
     "text": [
      "Size'ı (1,3,2) olan:\n",
      " [[[6 9]\n",
      "  [4 4]\n",
      "  [7 9]]]\n",
      "\n",
      "Size'ı (2,3,2) olan:\n",
      " [[[2 0]\n",
      "  [9 8]\n",
      "  [9 0]]\n",
      "\n",
      " [[3 2]\n",
      "  [2 7]\n",
      "  [0 8]]]\n",
      "\n",
      "Size'ı (3,2,2) olan:\n",
      " [[[7 6]\n",
      "  [9 7]]\n",
      "\n",
      " [[6 4]\n",
      "  [5 4]]\n",
      "\n",
      " [[1 9]\n",
      "  [0 7]]]\n",
      "\n"
     ]
    }
   ],
   "source": [
    "import numpy as np\n",
    "\n",
    "ucboyutlu1 = np.random.randint(10, size = (1,3,2))\n",
    "print(\"Size'ı (1,3,2) olan:\\n\", ucboyutlu1, end=\"\\n\\n\")\n",
    "\n",
    "ucboyutlu2 = np.random.randint(10, size = (2,3,2))\n",
    "print(\"Size'ı (2,3,2) olan:\\n\", ucboyutlu2, end=\"\\n\\n\")\n",
    "\n",
    "ucboyutlu3 = np.random.randint(10, size = (3,2,2))\n",
    "print(\"Size'ı (3,2,2) olan:\\n\", ucboyutlu3, end=\"\\n\\n\")"
   ]
  },
  {
   "cell_type": "code",
   "execution_count": 7,
   "metadata": {},
   "outputs": [
    {
     "name": "stdout",
     "output_type": "stream",
     "text": [
      "Size'ı (3,3,2) olan:\n",
      " [[[2 2]\n",
      "  [6 2]\n",
      "  [2 4]]\n",
      "\n",
      " [[9 0]\n",
      "  [7 9]\n",
      "  [1 1]]\n",
      "\n",
      " [[7 0]\n",
      "  [6 6]\n",
      "  [2 7]]]\n",
      "\n",
      "Size'ı (3,3,1) olan:\n",
      " [[[2]\n",
      "  [9]\n",
      "  [6]]\n",
      "\n",
      " [[9]\n",
      "  [5]\n",
      "  [8]]\n",
      "\n",
      " [[4]\n",
      "  [3]\n",
      "  [1]]]\n"
     ]
    }
   ],
   "source": [
    "import numpy as np\n",
    "\n",
    "ucboyutlu4 = np.random.randint(10, size = (3,3,2))\n",
    "print(\"Size'ı (3,3,2) olan:\\n\", ucboyutlu4, end=\"\\n\\n\")\n",
    "\n",
    "ucboyutlu5 = np.random.randint(10, size = (3,3,1))\n",
    "print(\"Size'ı (3,3,1) olan:\\n\", ucboyutlu5)"
   ]
  }
 ],
 "metadata": {
  "kernelspec": {
   "display_name": "Python 3.9.12 ('base')",
   "language": "python",
   "name": "python3"
  },
  "language_info": {
   "codemirror_mode": {
    "name": "ipython",
    "version": 3
   },
   "file_extension": ".py",
   "mimetype": "text/x-python",
   "name": "python",
   "nbconvert_exporter": "python",
   "pygments_lexer": "ipython3",
   "version": "3.9.12"
  },
  "orig_nbformat": 4,
  "vscode": {
   "interpreter": {
    "hash": "62164c8fb3cdc29ac6a738f2969b51adce5d9cfcd257e47b742b1ba3a188c6d5"
   }
  }
 },
 "nbformat": 4,
 "nbformat_minor": 2
}
