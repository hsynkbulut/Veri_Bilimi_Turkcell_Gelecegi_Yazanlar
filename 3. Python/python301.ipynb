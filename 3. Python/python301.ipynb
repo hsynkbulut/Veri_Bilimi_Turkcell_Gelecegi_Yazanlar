{
 "cells": [
  {
   "cell_type": "markdown",
   "metadata": {},
   "source": [
    "### *How to Write a Function?*\n",
    "***def:*** *Python programına fonksiyon tanımlıyorum demenin yolu \"def\" ifadesidir.*\n",
    "\n",
    "```\n",
    "def fonksiyonAdi(argümanAdi):\n",
    "    Fonksiyonun yapacağı işlemler buraya yazılır\n",
    "```"
   ]
  },
  {
   "cell_type": "code",
   "execution_count": 2,
   "metadata": {},
   "outputs": [
    {
     "name": "stdout",
     "output_type": "stream",
     "text": [
      "9\n"
     ]
    }
   ],
   "source": [
    "def kare_al(x): # Fonksiyonun tanımlanması\n",
    "    print(x ** 2) # Fonksiyonun gövdesi burası\n",
    "\n",
    "kare_al(3) # Fonksiyonun çağırılması"
   ]
  },
  {
   "cell_type": "markdown",
   "metadata": {},
   "source": [
    "### *Producing Output with Information Note*"
   ]
  },
  {
   "cell_type": "code",
   "execution_count": 4,
   "metadata": {},
   "outputs": [
    {
     "name": "stdout",
     "output_type": "stream",
     "text": [
      "Girilen sayının karesi:  25\n"
     ]
    }
   ],
   "source": [
    "def kare_al(x):\n",
    "    print(\"Girilen sayının karesi: \", x ** 2)\n",
    "\n",
    "kare_al(5)"
   ]
  },
  {
   "cell_type": "markdown",
   "metadata": {},
   "source": [
    "### *Defining a Function with Two Arguments*"
   ]
  },
  {
   "cell_type": "code",
   "execution_count": 6,
   "metadata": {},
   "outputs": [
    {
     "name": "stdout",
     "output_type": "stream",
     "text": [
      "6\n"
     ]
    }
   ],
   "source": [
    "def carpma_yap(x, y):\n",
    "    print(x * y)\n",
    "\n",
    "carpma_yap(2, 3)"
   ]
  },
  {
   "cell_type": "markdown",
   "metadata": {},
   "source": [
    "### *Default Arguments*"
   ]
  },
  {
   "cell_type": "code",
   "execution_count": 8,
   "metadata": {},
   "outputs": [
    {
     "name": "stdout",
     "output_type": "stream",
     "text": [
      "10\n",
      "18\n"
     ]
    }
   ],
   "source": [
    "def carpma_yap(x, y= 5): # y burada ön tanımlı\n",
    "    print(x * y)\n",
    "\n",
    "carpma_yap(2)\n",
    "\n",
    "def carpma_yap2(x, y= 5): # y burada ön tanımlı\n",
    "    print(x * y)\n",
    "\n",
    "carpma_yap2(2, 9) # 9'u yazınca ön tanımlı olan 5 sayısı devre dışı kalıyor"
   ]
  },
  {
   "cell_type": "markdown",
   "metadata": {},
   "source": [
    "### *Ordering of Arguments*"
   ]
  },
  {
   "cell_type": "code",
   "execution_count": 10,
   "metadata": {},
   "outputs": [
    {
     "name": "stdout",
     "output_type": "stream",
     "text": [
      "21\n"
     ]
    }
   ],
   "source": [
    "def carpma_yap3(x, y= 2): # y burada ön tanımlı\n",
    "    print(x * y)\n",
    "\n",
    "carpma_yap3(y= 7, x= 3) #Fonksiyondaki argümanların yerini bilmediğimiz durumlarda bunu kullanabiliriz"
   ]
  },
  {
   "cell_type": "markdown",
   "metadata": {},
   "source": [
    "### *Using Function Outputs as Input: return*"
   ]
  },
  {
   "cell_type": "code",
   "execution_count": 11,
   "metadata": {},
   "outputs": [
    {
     "name": "stdout",
     "output_type": "stream",
     "text": [
      "8.357142857142858\n"
     ]
    }
   ],
   "source": [
    "def direk_hesap(isi, nem, sarj):\n",
    "    return (isi + nem) / sarj\n",
    "\n",
    "cikti = direk_hesap(25, 40, 70) \n",
    "\n",
    "#fonksiyonu girdi olarak kullanalım\n",
    "print(cikti * 9)"
   ]
  },
  {
   "cell_type": "markdown",
   "metadata": {},
   "source": [
    "### *Local and Global Variables*\n",
    "\n",
    "![local_global](https://th.bing.com/th/id/R.7961fd5cfa029faab2ac88b3860abe98?rik=gHj1Mh9pgKq%2FFQ)"
   ]
  },
  {
   "cell_type": "markdown",
   "metadata": {},
   "source": [
    "### *Changing a Global Domain from a Local Domain*"
   ]
  },
  {
   "cell_type": "code",
   "execution_count": 15,
   "metadata": {},
   "outputs": [
    {
     "name": "stdout",
     "output_type": "stream",
     "text": [
      "ali ifadesi eklendi\n",
      "veli ifadesi eklendi\n",
      "x = ['ali', 'veli']\n"
     ]
    }
   ],
   "source": [
    "x = [] # Global değişken\n",
    "\n",
    "def eleman_ekle(y): # y: Local değişken\n",
    "    x.append(y)\n",
    "    print(y, \"ifadesi eklendi\")\n",
    "\n",
    "eleman_ekle(\"ali\")\n",
    "eleman_ekle(\"veli\")\n",
    "\n",
    "print(\"x =\", x)"
   ]
  },
  {
   "cell_type": "markdown",
   "metadata": {},
   "source": [
    "## Control Flow Statements\n",
    "![control_structures](https://pynative.com/wp-content/uploads/2021/03/python-flow-control-statements.png)"
   ]
  },
  {
   "cell_type": "code",
   "execution_count": 16,
   "metadata": {},
   "outputs": [
    {
     "name": "stdout",
     "output_type": "stream",
     "text": [
      "Gelir sınırdan büyük\n"
     ]
    }
   ],
   "source": [
    "sinir = 50000 # sinir değil sınır. Türkçe karakter kabul etmediği için sinir yazdık\n",
    "gelir = 60000\n",
    "\n",
    "if gelir < sinir:\n",
    "    print(\"Gelir sınırdan küçük\")\n",
    "\n",
    "if gelir > sinir:\n",
    "    print(\"Gelir sınırdan büyük\")"
   ]
  },
  {
   "cell_type": "code",
   "execution_count": 18,
   "metadata": {},
   "outputs": [
    {
     "name": "stdout",
     "output_type": "stream",
     "text": [
      "Gelir sınırdan küçük\n"
     ]
    }
   ],
   "source": [
    "sinir = 5000\n",
    "gelir = 3500\n",
    "\n",
    "if gelir < sinir:\n",
    "    print(\"Gelir sınırdan küçük\")\n",
    "else:\n",
    "    print(\"Gelir sınırdan büyük\")"
   ]
  },
  {
   "cell_type": "code",
   "execution_count": 21,
   "metadata": {},
   "outputs": [
    {
     "name": "stdout",
     "output_type": "stream",
     "text": [
      "Takibe devam\n"
     ]
    }
   ],
   "source": [
    "sinir = 5000\n",
    "gelir1 = 6000\n",
    "gelir2 = 5000\n",
    "gelir3 = 3500\n",
    "\n",
    "if gelir2 > sinir:\n",
    "    print(\"Tebrikler, hediye kazandınız\")\n",
    "elif gelir2 < sinir:\n",
    "    print(\"Uyari!\")\n",
    "else:\n",
    "    print(\"Takibe devam\")"
   ]
  },
  {
   "cell_type": "markdown",
   "metadata": {},
   "source": [
    "### Loops"
   ]
  },
  {
   "cell_type": "code",
   "execution_count": 1,
   "metadata": {},
   "outputs": [
    {
     "name": "stdout",
     "output_type": "stream",
     "text": [
      "ali\n",
      "veli\n",
      "isik\n",
      "berk\n"
     ]
    }
   ],
   "source": [
    "ogrenci = [\"ali\", \"veli\", \"isik\", \"berk\"]\n",
    "\n",
    "for i in ogrenci:\n",
    "    print(i)"
   ]
  },
  {
   "cell_type": "markdown",
   "metadata": {},
   "source": [
    "### *Using Loop and Functions Together*"
   ]
  },
  {
   "cell_type": "code",
   "execution_count": 2,
   "metadata": {},
   "outputs": [
    {
     "name": "stdout",
     "output_type": "stream",
     "text": [
      "1200.0\n",
      "2400.0\n",
      "3600.0\n",
      "4800.0\n",
      "6000.0\n"
     ]
    }
   ],
   "source": [
    "maaslar = [1000, 2000, 3000, 4000, 5000]\n",
    "\n",
    "def yeni_maas(x):\n",
    "    print(x * 20 / 100 + x)\n",
    "\n",
    "for i in maaslar:\n",
    "    yeni_maas(i)"
   ]
  },
  {
   "cell_type": "markdown",
   "metadata": {},
   "source": [
    "### *Using if, for and Functions Together*"
   ]
  },
  {
   "cell_type": "code",
   "execution_count": 3,
   "metadata": {},
   "outputs": [
    {
     "name": "stdout",
     "output_type": "stream",
     "text": [
      "1200.0\n",
      "2400.0\n",
      "3300.0\n",
      "4400.0\n",
      "5500.0\n"
     ]
    }
   ],
   "source": [
    "maaslar = [1000, 2000, 3000, 4000, 5000]\n",
    "\n",
    "def maas_ust(x):\n",
    "    print(x * 10 / 100 + x)\n",
    "\n",
    "def maas_alt(x):\n",
    "    print(x * 20 / 100 + x)\n",
    "\n",
    "for i in maaslar:\n",
    "    if i >= 3000:\n",
    "        maas_ust(i)\n",
    "    else:\n",
    "        maas_alt(i)"
   ]
  },
  {
   "cell_type": "markdown",
   "metadata": {},
   "source": [
    "### *Break and Continue*"
   ]
  },
  {
   "cell_type": "code",
   "execution_count": 4,
   "metadata": {},
   "outputs": [
    {
     "name": "stdout",
     "output_type": "stream",
     "text": [
      "1000\n",
      "1000\n",
      "2000\n",
      "kesildi\n"
     ]
    }
   ],
   "source": [
    "maaslar = [8000, 5000, 2000, 1000, 3000, 7000, 1000]\n",
    "maaslar.sort()\n",
    "\n",
    "for i in maaslar:\n",
    "    if i == 3000:\n",
    "        print(\"kesildi\")\n",
    "        break #  Bu şart sağlandığında döngüyü kır ve döngüden çık demektir\n",
    "    print(i)"
   ]
  },
  {
   "cell_type": "code",
   "execution_count": 6,
   "metadata": {},
   "outputs": [
    {
     "name": "stdout",
     "output_type": "stream",
     "text": [
      "1000\n",
      "1000\n",
      "2000\n",
      "5000\n",
      "7000\n",
      "8000\n"
     ]
    }
   ],
   "source": [
    "for i in maaslar:\n",
    "    if i == 3000:\n",
    "        continue # Bu şart sağlandığında bunu atla ve çalışmaya devam et demektir\n",
    "    print(i)"
   ]
  },
  {
   "cell_type": "markdown",
   "metadata": {},
   "source": [
    "### *While*"
   ]
  },
  {
   "cell_type": "code",
   "execution_count": 7,
   "metadata": {},
   "outputs": [
    {
     "name": "stdout",
     "output_type": "stream",
     "text": [
      "2\n",
      "3\n",
      "4\n",
      "5\n",
      "6\n",
      "7\n",
      "8\n",
      "9\n"
     ]
    }
   ],
   "source": [
    "sayi = 1\n",
    "\n",
    "while sayi < 9:\n",
    "    sayi += 1\n",
    "    print(sayi)"
   ]
  }
 ],
 "metadata": {
  "kernelspec": {
   "display_name": "Python 3.9.12 ('base')",
   "language": "python",
   "name": "python3"
  },
  "language_info": {
   "codemirror_mode": {
    "name": "ipython",
    "version": 3
   },
   "file_extension": ".py",
   "mimetype": "text/x-python",
   "name": "python",
   "nbconvert_exporter": "python",
   "pygments_lexer": "ipython3",
   "version": "3.9.12"
  },
  "orig_nbformat": 4,
  "vscode": {
   "interpreter": {
    "hash": "62164c8fb3cdc29ac6a738f2969b51adce5d9cfcd257e47b742b1ba3a188c6d5"
   }
  }
 },
 "nbformat": 4,
 "nbformat_minor": 2
}
