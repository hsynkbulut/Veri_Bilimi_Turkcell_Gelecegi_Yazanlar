{
 "cells": [
  {
   "cell_type": "markdown",
   "metadata": {},
   "source": [
    "## *Veri Yapıları*\n",
    "\n",
    "### *Listeler (Lists)*\n",
    "*[] ya da list() ile ifade edilir.*\n",
    "\n",
    "- *Değiştirilebilirdir*\n",
    "- *Kapsayıcıdır (farklı tipte verileri tutabilir)*\n",
    "- *Sıralıdır*"
   ]
  },
  {
   "cell_type": "code",
   "execution_count": 22,
   "metadata": {},
   "outputs": [
    {
     "data": {
      "text/plain": [
       "list"
      ]
     },
     "execution_count": 22,
     "metadata": {},
     "output_type": "execute_result"
    }
   ],
   "source": [
    "notlar = [90, 80, 70, 50]\n",
    "type(notlar)"
   ]
  },
  {
   "cell_type": "code",
   "execution_count": 23,
   "metadata": {},
   "outputs": [
    {
     "data": {
      "text/plain": [
       "4"
      ]
     },
     "execution_count": 23,
     "metadata": {},
     "output_type": "execute_result"
    }
   ],
   "source": [
    "list_genis = [\"a\", 19.3, 90, notlar]\n",
    "len(list_genis)"
   ]
  },
  {
   "cell_type": "markdown",
   "metadata": {},
   "source": [
    "### *Liste İçi Tip Sorgulama*"
   ]
  },
  {
   "cell_type": "code",
   "execution_count": 24,
   "metadata": {},
   "outputs": [
    {
     "data": {
      "text/plain": [
       "str"
      ]
     },
     "execution_count": 24,
     "metadata": {},
     "output_type": "execute_result"
    }
   ],
   "source": [
    "type(list_genis[0])"
   ]
  },
  {
   "cell_type": "code",
   "execution_count": 25,
   "metadata": {},
   "outputs": [],
   "source": [
    "tum_liste = [notlar, list_genis]\n",
    "\n",
    "# del: Listeyi silmek için\n",
    "del tum_liste"
   ]
  },
  {
   "cell_type": "markdown",
   "metadata": {},
   "source": [
    "### *Liste Elemanlarına Erişmek*"
   ]
  },
  {
   "cell_type": "code",
   "execution_count": 26,
   "metadata": {},
   "outputs": [
    {
     "name": "stdout",
     "output_type": "stream",
     "text": [
      "30\n",
      "[10, 20]\n",
      "[30, 40, 50]\n"
     ]
    }
   ],
   "source": [
    "liste = [10, 20, 30, 40, 50]\n",
    "\n",
    "# 2.index'e erişmek için\n",
    "print(liste[2])\n",
    "\n",
    "# Baştan 2.index'e kadar erişmek için\n",
    "print(liste[:2])\n",
    "\n",
    "# 2.indexten son index'e kadar erişmek için\n",
    "print(liste[2:])"
   ]
  },
  {
   "cell_type": "code",
   "execution_count": 27,
   "metadata": {},
   "outputs": [
    {
     "data": {
      "text/plain": [
       "39"
      ]
     },
     "execution_count": 27,
     "metadata": {},
     "output_type": "execute_result"
    }
   ],
   "source": [
    "yeni_liste = [\"a\", 67, [23, 39, 83, 15]]\n",
    "\n",
    "# listenin 2.index'inin 1.elemanına erişmek için\n",
    "yeni_liste[2][1]"
   ]
  },
  {
   "cell_type": "markdown",
   "metadata": {},
   "source": [
    "### *Listelere Eleman Ekleme ile Değiştirme ve Silme*"
   ]
  },
  {
   "cell_type": "code",
   "execution_count": 28,
   "metadata": {},
   "outputs": [
    {
     "name": "stdout",
     "output_type": "stream",
     "text": [
      "['ali', 'kerim', 'berkcan', 'ayse']\n",
      "['alinin_babasi', 'kerimin_babasi,', 'berkcanin_babasi', 'ayse']\n",
      "['alinin_babasi', 'kerimin_babasi,', 'berkcanin_babasi', 'ayse', 'kemal']\n",
      "['alinin_babasi', 'kerimin_babasi,', 'ayse', 'kemal']\n"
     ]
    }
   ],
   "source": [
    "liste = [\"ali\", \"veli\", \"berkcan\", \"ayse\"]\n",
    "\n",
    "# Eleman değiştirme\n",
    "liste[1] = \"kerim\"\n",
    "print(liste)\n",
    "\n",
    "liste[0:3] = \"alinin_babasi\", \"kerimin_babasi,\", \"berkcanin_babasi\"\n",
    "print(liste)\n",
    "\n",
    "# Eleman ekleme\n",
    "liste = liste + [\"kemal\"]\n",
    "print(liste)\n",
    "\n",
    "# Eleman silme\n",
    "del liste[2]\n",
    "print(liste)"
   ]
  },
  {
   "cell_type": "markdown",
   "metadata": {},
   "source": [
    "### *Metodlar ile Eleman Ekleme ve Silme: append ve remove*"
   ]
  },
  {
   "cell_type": "code",
   "execution_count": 29,
   "metadata": {},
   "outputs": [
    {
     "name": "stdout",
     "output_type": "stream",
     "text": [
      "['alinin_babasi', 'kerimin_babasi,', 'ayse', 'kemal', 'aslı']\n",
      "['alinin_babasi', 'kerimin_babasi,', 'ayse', 'aslı']\n"
     ]
    }
   ],
   "source": [
    "# Listeler - Liste Metodları\n",
    "\n",
    "# append(): listeye eleman ekler\n",
    "liste.append(\"aslı\")\n",
    "print(liste)\n",
    "\n",
    "# remove(): listeden eleman siler\n",
    "liste.remove(\"kemal\")\n",
    "print(liste)"
   ]
  },
  {
   "cell_type": "markdown",
   "metadata": {},
   "source": [
    "### *Indekse Göre Eleman Ekleme ve Silme: insert ve pop*"
   ]
  },
  {
   "cell_type": "code",
   "execution_count": 30,
   "metadata": {},
   "outputs": [
    {
     "name": "stdout",
     "output_type": "stream",
     "text": [
      "['ayse', 'ali', 'veli', 'isik', 'berk']\n",
      "['ayse', 'ali', 'isik', 'berk']\n"
     ]
    }
   ],
   "source": [
    "yliste = [\"ali\", \"veli\", \"isik\"]\n",
    "\n",
    "# insert(): Belirtilen index'e göre eleman ekler\n",
    "yliste.insert(0, \"ayse\") # 0.index'e elemanı ekleyecek\n",
    "\n",
    "# yeni bir index oluşturup ona eleman ekleyelim\n",
    "yliste.insert(4, \"berk\")\n",
    "print(yliste)\n",
    "\n",
    "# pop(): Belirtilen index'e göre eleman siler\n",
    "yliste.pop(2)\n",
    "print(yliste)"
   ]
  },
  {
   "cell_type": "markdown",
   "metadata": {},
   "source": [
    "### *Diğer Liste Metodları*\n"
   ]
  },
  {
   "cell_type": "code",
   "execution_count": 31,
   "metadata": {},
   "outputs": [
    {
     "name": "stdout",
     "output_type": "stream",
     "text": [
      "['ali', 'veli', 'isik', 'ali', 'veli', 'a', 'b', 10]\n",
      "[10, 'b', 'a', 'veli', 'ali', 'isik', 'veli', 'ali']\n"
     ]
    }
   ],
   "source": [
    "dliste = [\"ali\", \"veli\", \"isik\", \"ali\", \"veli\"]\n",
    "\n",
    "# count(): listede belirtilen elemandan kaç tane olduğunu söyler\n",
    "dliste.count(\"ali\")\n",
    "\n",
    "# copy(): listeyi kopyalar, yani yedek kopyasını alır\n",
    "dliste_yedek = dliste.copy()\n",
    "\n",
    "# extend(): listeye tek seferde birden fazla eleman ekler\n",
    "dliste.extend([\"a\", \"b\", 10])\n",
    "\n",
    "# index(): listedeki herhangi bir elemanın kaçıncı dizinde olduğunu gösterir\n",
    "dliste.index(\"ali\")\n",
    "print(dliste)\n",
    "\n",
    "# reverse(): listeyi ters çevirir\n",
    "dliste.reverse()\n",
    "print(dliste)"
   ]
  },
  {
   "cell_type": "code",
   "execution_count": 32,
   "metadata": {},
   "outputs": [
    {
     "name": "stdout",
     "output_type": "stream",
     "text": [
      "[5, 10, 40, 90]\n",
      "[]\n"
     ]
    }
   ],
   "source": [
    "# sort(): Listedeki elemanları sıralar\n",
    "nliste = [10, 40, 5, 90]\n",
    "nliste.sort()\n",
    "print(nliste)\n",
    "\n",
    "# clear(): Listedeki elemanların hepsini siler\n",
    "nliste.clear()\n",
    "print(nliste)"
   ]
  },
  {
   "cell_type": "markdown",
   "metadata": {},
   "source": [
    "### *Tuple (Demet)*\n",
    "*() ya da tuple() ile ifade edilir.*\n",
    "- *Kapsayıcıdır*\n",
    "- *Sıralıdır*\n",
    "- *Değiştirilemez*"
   ]
  },
  {
   "cell_type": "code",
   "execution_count": 36,
   "metadata": {},
   "outputs": [
    {
     "name": "stdout",
     "output_type": "stream",
     "text": [
      "('ali', 'veli', 1, 2, 3.2, [1, 2, 3, 4])\n",
      "<class 'tuple'>\n"
     ]
    }
   ],
   "source": [
    "# Tuple oluşturma\n",
    "t = (\"ali\", \"veli\", 1, 2, 3.2, [1, 2, 3, 4])\n",
    "print(t)\n",
    "\n",
    "# tek elemanlı bir tuple oluştururken sonuna , koymak gerekiyor. Eğer koymazsak program bunu string olarak algılıyor\n",
    "t2 = (\"eleman\",)\n",
    "print(type(t2))\n"
   ]
  },
  {
   "cell_type": "markdown",
   "metadata": {},
   "source": [
    "### *Tuple Eleman İşlemleri*"
   ]
  },
  {
   "cell_type": "code",
   "execution_count": 38,
   "metadata": {},
   "outputs": [
    {
     "name": "stdout",
     "output_type": "stream",
     "text": [
      "veli\n",
      "('ali', 'veli', 1)\n"
     ]
    }
   ],
   "source": [
    "# Elemanlara erişmek\n",
    "print(t[1])\n",
    "print(t[0:3])"
   ]
  },
  {
   "cell_type": "code",
   "execution_count": 39,
   "metadata": {},
   "outputs": [
    {
     "ename": "TypeError",
     "evalue": "'tuple' object does not support item assignment",
     "output_type": "error",
     "traceback": [
      "\u001b[1;31m---------------------------------------------------------------------------\u001b[0m",
      "\u001b[1;31mTypeError\u001b[0m                                 Traceback (most recent call last)",
      "\u001b[1;32mc:\\Users\\HUSEY\\OneDrive\\Masaüstü\\Genel Dosyalar\\Yazılım\\Veri_Bilimi_Turkcell_Gelecegi_Yazanlar-master\\3. Python\\python201.ipynb Hücre 23\u001b[0m in \u001b[0;36m<cell line: 2>\u001b[1;34m()\u001b[0m\n\u001b[0;32m      <a href='vscode-notebook-cell:/c%3A/Users/HUSEY/OneDrive/Masa%C3%BCst%C3%BC/Genel%20Dosyalar/Yaz%C4%B1l%C4%B1m/Veri_Bilimi_Turkcell_Gelecegi_Yazanlar-master/3.%20Python/python201.ipynb#X33sZmlsZQ%3D%3D?line=0'>1</a>\u001b[0m \u001b[39m# Tuple sonradan değiştirilemez!\u001b[39;00m\n\u001b[1;32m----> <a href='vscode-notebook-cell:/c%3A/Users/HUSEY/OneDrive/Masa%C3%BCst%C3%BC/Genel%20Dosyalar/Yaz%C4%B1l%C4%B1m/Veri_Bilimi_Turkcell_Gelecegi_Yazanlar-master/3.%20Python/python201.ipynb#X33sZmlsZQ%3D%3D?line=1'>2</a>\u001b[0m t[\u001b[39m2\u001b[39m] \u001b[39m=\u001b[39m \u001b[39m99\u001b[39m\n",
      "\u001b[1;31mTypeError\u001b[0m: 'tuple' object does not support item assignment"
     ]
    }
   ],
   "source": [
    "# Tuple sonradan değiştirilemez!\n",
    "t[2] = 99 # Hata verecektir!"
   ]
  },
  {
   "cell_type": "markdown",
   "metadata": {},
   "source": [
    "### Dictionary (Sözlük)\n",
    "*Anahtar ifadeler yani key'ler ve bu anahtar ifadelerin karşılıklarının bir arada tutulduğu referanslı bir veri yapısıdır.*\n",
    "\n",
    "> *Listelerde olduğu gibi index işlemleri yapılamaz!*\n",
    "\n",
    "- *Kapsayıcıdır*\n",
    "- *Sırasızdır*\n",
    "- *Değiştirilebilirdir*\n"
   ]
  },
  {
   "cell_type": "code",
   "execution_count": 40,
   "metadata": {},
   "outputs": [
    {
     "name": "stdout",
     "output_type": "stream",
     "text": [
      "{'REG': 'Regresyon Modeli', 'LOJ': 'Lojistik Regresyon', 'CART': 'Classification and Reg'}\n",
      "{'REG': 10, 'LOJ': 20, 'CART': 30}\n"
     ]
    }
   ],
   "source": [
    "# Sözlük oluşturma\n",
    "sozluk = {\"REG\": \"Regresyon Modeli\",\n",
    "          \"LOJ\": \"Lojistik Regresyon\",\n",
    "          \"CART\": \"Classification and Reg\"}\n",
    "print(sozluk)\n",
    "\n",
    "# Sözlük değiştirme\n",
    "sozluk = {\"REG\": 10,\n",
    "          \"LOJ\": 20,\n",
    "          \"CART\": 30}\n",
    "print(sozluk)"
   ]
  },
  {
   "cell_type": "markdown",
   "metadata": {},
   "source": [
    "### *Sözlük Eleman Seçme İşlemleri*"
   ]
  },
  {
   "cell_type": "code",
   "execution_count": 43,
   "metadata": {},
   "outputs": [
    {
     "ename": "KeyError",
     "evalue": "0",
     "output_type": "error",
     "traceback": [
      "\u001b[1;31m---------------------------------------------------------------------------\u001b[0m",
      "\u001b[1;31mKeyError\u001b[0m                                  Traceback (most recent call last)",
      "\u001b[1;32mc:\\Users\\HUSEY\\OneDrive\\Masaüstü\\Genel Dosyalar\\Yazılım\\Veri_Bilimi_Turkcell_Gelecegi_Yazanlar-master\\3. Python\\python201.ipynb Hücre 27\u001b[0m in \u001b[0;36m<cell line: 5>\u001b[1;34m()\u001b[0m\n\u001b[0;32m      <a href='vscode-notebook-cell:/c%3A/Users/HUSEY/OneDrive/Masa%C3%BCst%C3%BC/Genel%20Dosyalar/Yaz%C4%B1l%C4%B1m/Veri_Bilimi_Turkcell_Gelecegi_Yazanlar-master/3.%20Python/python201.ipynb#X36sZmlsZQ%3D%3D?line=0'>1</a>\u001b[0m sozluk \u001b[39m=\u001b[39m {\u001b[39m\"\u001b[39m\u001b[39mREG\u001b[39m\u001b[39m\"\u001b[39m: [\u001b[39m\"\u001b[39m\u001b[39mRMSE\u001b[39m\u001b[39m\"\u001b[39m, \u001b[39m10\u001b[39m],\n\u001b[0;32m      <a href='vscode-notebook-cell:/c%3A/Users/HUSEY/OneDrive/Masa%C3%BCst%C3%BC/Genel%20Dosyalar/Yaz%C4%B1l%C4%B1m/Veri_Bilimi_Turkcell_Gelecegi_Yazanlar-master/3.%20Python/python201.ipynb#X36sZmlsZQ%3D%3D?line=1'>2</a>\u001b[0m           \u001b[39m\"\u001b[39m\u001b[39mLOJ\u001b[39m\u001b[39m\"\u001b[39m: [\u001b[39m\"\u001b[39m\u001b[39mMSE\u001b[39m\u001b[39m\"\u001b[39m, \u001b[39m20\u001b[39m],\n\u001b[0;32m      <a href='vscode-notebook-cell:/c%3A/Users/HUSEY/OneDrive/Masa%C3%BCst%C3%BC/Genel%20Dosyalar/Yaz%C4%B1l%C4%B1m/Veri_Bilimi_Turkcell_Gelecegi_Yazanlar-master/3.%20Python/python201.ipynb#X36sZmlsZQ%3D%3D?line=2'>3</a>\u001b[0m           \u001b[39m\"\u001b[39m\u001b[39mCART\u001b[39m\u001b[39m\"\u001b[39m: [\u001b[39m\"\u001b[39m\u001b[39mSSE\u001b[39m\u001b[39m\"\u001b[39m, \u001b[39m30\u001b[39m]}\n\u001b[1;32m----> <a href='vscode-notebook-cell:/c%3A/Users/HUSEY/OneDrive/Masa%C3%BCst%C3%BC/Genel%20Dosyalar/Yaz%C4%B1l%C4%B1m/Veri_Bilimi_Turkcell_Gelecegi_Yazanlar-master/3.%20Python/python201.ipynb#X36sZmlsZQ%3D%3D?line=4'>5</a>\u001b[0m sozluk[\u001b[39m0\u001b[39;49m]\n",
      "\u001b[1;31mKeyError\u001b[0m: 0"
     ]
    }
   ],
   "source": [
    "sozluk = {\"REG\": [\"RMSE\", 10],\n",
    "          \"LOJ\": [\"MSE\", 20],\n",
    "          \"CART\": [\"SSE\", 30]}\n",
    "\n",
    "sozluk[0] \n",
    "# Bu kod hata verir. Çünkü sözlükler sırasızdır, biz ise index sırasıyla sözlük elemanlarına erişmeye çalışıyoruz"
   ]
  },
  {
   "cell_type": "code",
   "execution_count": 48,
   "metadata": {},
   "outputs": [
    {
     "data": {
      "text/plain": [
       "10"
      ]
     },
     "execution_count": 48,
     "metadata": {},
     "output_type": "execute_result"
    }
   ],
   "source": [
    "# Eleman seçmek için tanımladığımız sözlükteki key isimlerini kullanacağız index numarası yerine\n",
    "sozluk[\"REG\"]\n",
    "\n",
    "sozluk[\"REG\"][1]"
   ]
  },
  {
   "cell_type": "markdown",
   "metadata": {},
   "source": [
    "### *Sözlük Eleman Ekleme ve Değiştirme*"
   ]
  },
  {
   "cell_type": "code",
   "execution_count": 49,
   "metadata": {},
   "outputs": [
    {
     "name": "stdout",
     "output_type": "stream",
     "text": [
      "{'REG': 'Çoklu Doğrusal Regresyon', 'LOJ': 'Lojistik Regresyon', 'CART': 'Classification and Reg', 'GBM': 'Gradient Boosting Mac', 1: 'Yapay Sinir Ağları'}\n"
     ]
    }
   ],
   "source": [
    "sozluk2 = {\"REG\": \"Regresyon Modeli\",\n",
    "          \"LOJ\": \"Lojistik Regresyon\",\n",
    "          \"CART\": \"Classification and Reg\"}\n",
    "\n",
    "# Sözlüğe yeni eleman ekleme\n",
    "sozluk2[\"GBM\"] = \"Gradient Boosting Mac\"\n",
    "\n",
    "# Sözlükteki Herhangi Bir Elemanı Değiştirme\n",
    "sozluk2[\"REG\"] = \"Çoklu Doğrusal Regresyon\"\n",
    "sozluk2[1] = \"Yapay Sinir Ağları\"\n",
    "\n",
    "print(sozluk2)"
   ]
  },
  {
   "cell_type": "markdown",
   "metadata": {},
   "source": [
    "### *Setler (Kümeler)*\n",
    "- *Sırasızdır*\n",
    "- *Değerleri eşsizdir. Yani tekrar eden değerlerden oluşamaz!*\n",
    "- *Değiştirilebilirdir*\n",
    "- *Farklı tipleri barındırabilir*"
   ]
  },
  {
   "cell_type": "code",
   "execution_count": 50,
   "metadata": {},
   "outputs": [
    {
     "data": {
      "text/plain": [
       "set()"
      ]
     },
     "execution_count": 50,
     "metadata": {},
     "output_type": "execute_result"
    }
   ],
   "source": [
    "# Set oluşturmak\n",
    "s = set()\n",
    "\n",
    "s "
   ]
  },
  {
   "cell_type": "code",
   "execution_count": 51,
   "metadata": {},
   "outputs": [
    {
     "data": {
      "text/plain": [
       "{1, 123, 'a', 'ali'}"
      ]
     },
     "execution_count": 51,
     "metadata": {},
     "output_type": "execute_result"
    }
   ],
   "source": [
    "# Listeyi set'e çevirme\n",
    "listemiz = [1, \"a\", \"ali\", 123]\n",
    "s = set(listemiz) \n",
    "\n",
    "s"
   ]
  },
  {
   "cell_type": "code",
   "execution_count": 52,
   "metadata": {},
   "outputs": [
    {
     "data": {
      "text/plain": [
       "{'a', 'ali'}"
      ]
     },
     "execution_count": 52,
     "metadata": {},
     "output_type": "execute_result"
    }
   ],
   "source": [
    "# Tuple'ı set'e çevirme\n",
    "t = (\"a\", \"ali\")\n",
    "s = set(t)\n",
    "\n",
    "s"
   ]
  },
  {
   "cell_type": "code",
   "execution_count": 55,
   "metadata": {},
   "outputs": [
    {
     "data": {
      "text/plain": [
       "{'_', 'a', 'b', 'e', 'f', 'g', 'i', 'k', 'l', 'm', 'n', 't', 'u', 'y', 'z'}"
      ]
     },
     "execution_count": 55,
     "metadata": {},
     "output_type": "execute_result"
    }
   ],
   "source": [
    "# String'i set'e çevirme\n",
    "ali = \"lutfen_ata_bakma_uzaya_git\"\n",
    "s = set(ali)\n",
    "\n",
    "s"
   ]
  },
  {
   "cell_type": "code",
   "execution_count": 56,
   "metadata": {},
   "outputs": [
    {
     "ename": "TypeError",
     "evalue": "'set' object is not subscriptable",
     "output_type": "error",
     "traceback": [
      "\u001b[1;31m---------------------------------------------------------------------------\u001b[0m",
      "\u001b[1;31mTypeError\u001b[0m                                 Traceback (most recent call last)",
      "\u001b[1;32mc:\\Users\\HUSEY\\OneDrive\\Masaüstü\\Genel Dosyalar\\Yazılım\\Veri_Bilimi_Turkcell_Gelecegi_Yazanlar-master\\3. Python\\python201.ipynb Hücre 36\u001b[0m in \u001b[0;36m<cell line: 1>\u001b[1;34m()\u001b[0m\n\u001b[1;32m----> <a href='vscode-notebook-cell:/c%3A/Users/HUSEY/OneDrive/Masa%C3%BCst%C3%BC/Genel%20Dosyalar/Yaz%C4%B1l%C4%B1m/Veri_Bilimi_Turkcell_Gelecegi_Yazanlar-master/3.%20Python/python201.ipynb#X55sZmlsZQ%3D%3D?line=0'>1</a>\u001b[0m s[\u001b[39m0\u001b[39;49m]\n",
      "\u001b[1;31mTypeError\u001b[0m: 'set' object is not subscriptable"
     ]
    }
   ],
   "source": [
    "s[0] \n",
    "# Bu kod hata verir. Çünkü setler sırasızdır, biz ise index sırasıyla set elemanlarına erişmeye çalışıyoruz"
   ]
  },
  {
   "cell_type": "markdown",
   "metadata": {},
   "source": [
    "### *Set Eleman Ekleme ve Çıkarma*"
   ]
  },
  {
   "cell_type": "code",
   "execution_count": 59,
   "metadata": {},
   "outputs": [
    {
     "name": "stdout",
     "output_type": "stream",
     "text": [
      "{'ile', 'gelecegi', 'yazanlar'}\n",
      "{'ile', 'yazanlar'}\n"
     ]
    }
   ],
   "source": [
    "l = [\"gelecegi\", \"yazanlar\"]\n",
    "s = set(l)\n",
    "\n",
    "# set'e eleman ekleme\n",
    "s.add(\"ile\")\n",
    "print(s)\n",
    "\n",
    "# set'ten eleman silme\n",
    "s.remove(\"gelecegi\")\n",
    "print(s)"
   ]
  },
  {
   "cell_type": "markdown",
   "metadata": {},
   "source": [
    "### *Setlerde Fark İşlemleri: difference ve symmetric difference*"
   ]
  },
  {
   "cell_type": "code",
   "execution_count": 66,
   "metadata": {},
   "outputs": [
    {
     "name": "stdout",
     "output_type": "stream",
     "text": [
      "{5}\n",
      "{2}\n",
      "{2, 5}\n"
     ]
    }
   ],
   "source": [
    "set1 = set([1,3,5])\n",
    "set2 = set([1,2,3])\n",
    "\n",
    "# İki kümenin farkını difference() ile ya da \"-\" ile alabiliriz\n",
    "diff = set1.difference(set2)\n",
    "diff2 = set2 - set1\n",
    "print(diff) #set1'in set2'den farkı\n",
    "print(diff2) #set2'nin set1'den farkı\n",
    "\n",
    "# Kümelerin ikisininde birbirlerinde olmayanlarını symmetric_difference() ile alabiliriz \n",
    "symdif = set1.symmetric_difference(set2)\n",
    "print(symdif) # Hiç ortak olmayan elemanlar"
   ]
  },
  {
   "cell_type": "markdown",
   "metadata": {},
   "source": [
    "### *Setlerde Kesişim ve Birleşim İşlemleri: intersection ve union*"
   ]
  },
  {
   "cell_type": "code",
   "execution_count": 67,
   "metadata": {},
   "outputs": [
    {
     "name": "stdout",
     "output_type": "stream",
     "text": [
      "{1, 3}\n",
      "{1, 3}\n",
      "{1, 2, 3, 5}\n"
     ]
    }
   ],
   "source": [
    "# İki kümenin kesişimini intersection() ile ya da \"&\" ile alabiliriz\n",
    "intsec = set1.intersection(set2)\n",
    "intsec2 = set1 & set2\n",
    "print(intsec)\n",
    "print(intsec2)\n",
    "\n",
    "# İki kümenin birleşimini union() ile alabiliriz\n",
    "uni = set1.union(set2)\n",
    "print(uni)"
   ]
  },
  {
   "cell_type": "markdown",
   "metadata": {},
   "source": [
    "### *Setlerde Sorgu İşlemleri*"
   ]
  },
  {
   "cell_type": "code",
   "execution_count": 71,
   "metadata": {},
   "outputs": [
    {
     "name": "stdout",
     "output_type": "stream",
     "text": [
      "False\n",
      "True\n",
      "True\n"
     ]
    }
   ],
   "source": [
    "set1 = set([7, 8, 9])\n",
    "set2 = set([5, 6, 7, 8, 9, 10])\n",
    "\n",
    "# isdisjoint(): İki kümenin kesişimi boş mu? Boşsa true değilse false döner\n",
    "is_dis = set1.isdisjoint(set2)\n",
    "print(is_dis)\n",
    "\n",
    "# issubset(): Bir kümenin bütün elemanlarının başka bir küme içerisinde yer alıp almadığını sorgular.\n",
    "# set1, set2'nin alt kümesi midir? Evetse true değilse false döner.\n",
    "is_sub = set1.issubset(set2)\n",
    "print(is_sub)\n",
    "\n",
    "# issuperset(): Bir kümenin bir diğer kümeyi kapsayıp kapsamadığını sorgular.\n",
    "is_super = set2.issuperset(set1)\n",
    "print(is_super)"
   ]
  },
  {
   "cell_type": "markdown",
   "metadata": {},
   "source": [
    "| Listeler| Tuple| Sözlük| Setler|\n",
    "| :--- | :---: | ---: | ---: |\n",
    "| Değiştirilebilir | Değiştirilemez | Değiştirilebilen | Değişebilir |\n",
    "| Sıralı | Sıralı | Sırasız | Sırasız + Eşsizdir |\n",
    "| Kapsayıcı | Kapsayıcı | Kapsayıcı | Kapsayıcıdır |"
   ]
  }
 ],
 "metadata": {
  "kernelspec": {
   "display_name": "Python 3.9.12 ('base')",
   "language": "python",
   "name": "python3"
  },
  "language_info": {
   "codemirror_mode": {
    "name": "ipython",
    "version": 3
   },
   "file_extension": ".py",
   "mimetype": "text/x-python",
   "name": "python",
   "nbconvert_exporter": "python",
   "pygments_lexer": "ipython3",
   "version": "3.9.12"
  },
  "orig_nbformat": 4,
  "vscode": {
   "interpreter": {
    "hash": "62164c8fb3cdc29ac6a738f2969b51adce5d9cfcd257e47b742b1ba3a188c6d5"
   }
  }
 },
 "nbformat": 4,
 "nbformat_minor": 2
}
