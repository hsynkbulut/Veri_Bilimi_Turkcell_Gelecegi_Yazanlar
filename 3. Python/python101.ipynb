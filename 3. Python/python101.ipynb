{
 "cells": [
  {
   "cell_type": "markdown",
   "metadata": {},
   "source": [
    "<a id = \"0\"></a><h1 id=\"Introduction\"><span class=\"label label-default\" style=\"background-color:#2E86C1; border-radius:8px; font-weight: bold; font-family:Verdana; font-size:22px; color:#FBFAFC; \">Neden Python? </span></h1>\n",
    "\n",
    "- Dünyanın büyük şirketlerinin kullandığı bir programlama dilidir.\n",
    "- Veri bilimi ve yapay zeka alanında en çok tercih edilen dillerden birisidir\n",
    "- Yorumlayıcıdır\n",
    "- Etkileşimlidir\n",
    "- High level (yüksek seviye) bir programlama dilidir\n",
    "- OOP ve FP (Fonksiyonel Programlama) özellikleri ile kullanılabilmektedir\n",
    "\n",
    "> *Anaconda bir dağıtıcıdır, çoğu IDE'yi kendi içinde bulundurur. Spyder, Pycharm gibi programlar ise IDE'dir ve direk Python'u çalıştırmaya yöneliktir.*"
   ]
  },
  {
   "cell_type": "markdown",
   "metadata": {},
   "source": [
    "### ***İlk Adım***\n",
    "*Her şeyden önce yorum satırı ile başlayalım.*\n",
    "\n",
    "***Yorum satırı nedir?***\n",
    "- *Yorum satırı, yazmış olduğumuz kodları daha anlaşılır kılmak için yanlarına notlar aldığımız, program çalışma esnasında ekranda/terminalde görünmeyen kısımdır.*\n",
    "\n",
    "***Yorum satırı nasıl yapılır?***\n",
    "- *Yorum satırı açmak için ifadenin başına **#** işaretini koyarız.*\n",
    "\n",
    "***Örneğin:***"
   ]
  },
  {
   "cell_type": "code",
   "execution_count": 9,
   "metadata": {},
   "outputs": [],
   "source": [
    "#Bu bir yorum satırıdır."
   ]
  },
  {
   "cell_type": "code",
   "execution_count": 1,
   "metadata": {},
   "outputs": [
    {
     "name": "stdout",
     "output_type": "stream",
     "text": [
      "Hello World!\n"
     ]
    }
   ],
   "source": [
    "# Ekrana bir şey yazdırmak için print() kullanırız. () içine yazdığımız ifadeyi ekrana basar.\n",
    "print(\"Hello World!\")"
   ]
  },
  {
   "cell_type": "markdown",
   "metadata": {},
   "source": [
    "### Sayılar ve Karakter Dizilerine Giriş\n",
    "- Sayılar: integer, float vs.\n",
    "- Karakter Dizileri: String"
   ]
  },
  {
   "cell_type": "code",
   "execution_count": 7,
   "metadata": {},
   "outputs": [
    {
     "name": "stdout",
     "output_type": "stream",
     "text": [
      "9\n",
      "8\n",
      "9.2\n",
      "7.1\n",
      "Merhaba\n",
      "Deneme\n"
     ]
    }
   ],
   "source": [
    "# integer sayılar\n",
    "print(9)\n",
    "print(8)\n",
    "\n",
    "# float sayılar\n",
    "print(9.2)\n",
    "print(7.1)\n",
    "\n",
    "# Stringler\n",
    "print(\"Merhaba\")\n",
    "print('Deneme')"
   ]
  },
  {
   "cell_type": "code",
   "execution_count": 10,
   "metadata": {},
   "outputs": [
    {
     "data": {
      "text/plain": [
       "str"
      ]
     },
     "execution_count": 10,
     "metadata": {},
     "output_type": "execute_result"
    }
   ],
   "source": [
    "# Veri tipini öğrenmek için --> type() kullanırız\n",
    "type(9) # int\n",
    "type(7.1) # float\n",
    "type(\"Merhaba\") # str"
   ]
  },
  {
   "cell_type": "code",
   "execution_count": 11,
   "metadata": {},
   "outputs": [
    {
     "data": {
      "text/plain": [
       "str"
      ]
     },
     "execution_count": 11,
     "metadata": {},
     "output_type": "execute_result"
    }
   ],
   "source": [
    "# Dikkat! 123 ifadesi integer değil string'dir. Çünkü tırnak içine alınmış. Tırnak içine alınan ifadeler string'dir.\n",
    "type(\"123\")"
   ]
  },
  {
   "cell_type": "markdown",
   "metadata": {},
   "source": [
    "***Değişken:*** *Programlama yapılırken verilen bir değeri bilgisayarın hafızasında tutan ve istediğimiz yerde kullanmamızı sağlayan verilere değişken adı verilmektedir.*\n",
    "\n",
    "***Değer:*** *Değişkenlerin tuttuğu sayısal veya sözel işlemleri içinde barındıran bir ifadedir.*\n",
    "\n",
    "*Kullanılma yolu:* \n",
    "> *değişkenAdi = değer*\n",
    "\n",
    "*şeklindedir.*"
   ]
  },
  {
   "cell_type": "code",
   "execution_count": 17,
   "metadata": {},
   "outputs": [
    {
     "name": "stdout",
     "output_type": "stream",
     "text": [
      "ab\n",
      "AAA\n"
     ]
    }
   ],
   "source": [
    "# Şimdi deneme adında bir değişken adı belirleyelim ve buna bir değer verelim\n",
    "deneme = \"a\" + \"b\"\n",
    "print(deneme) # a ile b yi birleştir\n",
    "\n",
    "# A yı yan yana 3 kere ekrana basar\n",
    "print(\"A\" * 3) "
   ]
  },
  {
   "cell_type": "markdown",
   "metadata": {},
   "source": [
    "### *Uzunluk Bilgisine Erişmek: len Metodu*"
   ]
  },
  {
   "cell_type": "code",
   "execution_count": 18,
   "metadata": {},
   "outputs": [
    {
     "data": {
      "text/plain": [
       "17"
      ]
     },
     "execution_count": 18,
     "metadata": {},
     "output_type": "execute_result"
    }
   ],
   "source": [
    "gel_yaz = \"gelecegi_yazanlar\"\n",
    "\n",
    "# len(): Karakter dizisinin eleman sayısını verir\n",
    "len(gel_yaz)"
   ]
  },
  {
   "cell_type": "markdown",
   "metadata": {},
   "source": [
    "### *Büyük/Küçük Harf Dönüşümleri: upper & lower Metodları*"
   ]
  },
  {
   "cell_type": "code",
   "execution_count": 22,
   "metadata": {},
   "outputs": [
    {
     "name": "stdout",
     "output_type": "stream",
     "text": [
      "GELECEGI_YAZANLAR\n",
      "gelecegi_yazanlar\n",
      "False\n",
      "True\n"
     ]
    }
   ],
   "source": [
    "gel_yaz = \"Gelecegi_Yazanlar\"\n",
    "\n",
    "# upper(): Bir karakter dizisinin tüm karakterlerini büyütür.\n",
    "print(gel_yaz.upper())\n",
    "\n",
    "# lower(): Bir karakter dizisinin tüm karakterlerini küçültür.\n",
    "print(gel_yaz.lower())\n",
    "\n",
    "# islower(): Bütün harfler küçükse geriye True değilse False döner.\n",
    "ifade = \"Demir\"\n",
    "print(ifade.islower())\n",
    "\n",
    "# isupper(): Bütün harfler büyükse geriye True değilse False döner.\n",
    "ifade2 = \"BAK\"\n",
    "print(ifade2.isupper())"
   ]
  },
  {
   "cell_type": "markdown",
   "metadata": {},
   "source": [
    "### Karakter Değiştirme: replace Metodu"
   ]
  },
  {
   "cell_type": "code",
   "execution_count": 23,
   "metadata": {},
   "outputs": [
    {
     "data": {
      "text/plain": [
       "'Galacagi_Yazanlar'"
      ]
     },
     "execution_count": 23,
     "metadata": {},
     "output_type": "execute_result"
    }
   ],
   "source": [
    "gel_yaz = \"Gelecegi_Yazanlar\"\n",
    "\n",
    "# Yukarıdaki ifademizdeki e harfleri yerine a harfleri gelsin istiyoruz\n",
    "gel_yaz.replace(\"e\", \"a\")"
   ]
  },
  {
   "cell_type": "markdown",
   "metadata": {},
   "source": [
    "### Karakter Kırpma İşlemleri: strip Metodu\n",
    "*Sağdan ve soldan kırpma yapar*"
   ]
  },
  {
   "cell_type": "code",
   "execution_count": 32,
   "metadata": {},
   "outputs": [
    {
     "name": "stdout",
     "output_type": "stream",
     "text": [
      "Gelecegi_Yazanlar\n",
      "Gelecegi_Yazanlar2\n",
      "Gelecegi_Yazanlar3\n"
     ]
    }
   ],
   "source": [
    "gel_yaz = \"Gelecegi_Yazanlar \"\n",
    "\n",
    "# Parantez içine hiçbir şey yazmazsan sadece uçlardaki boşlukları kaldırır\n",
    "print(gel_yaz.strip())\n",
    "\n",
    "# Uçlarda \"*\" ifadesi varsa onu kaldırır\n",
    "gel_yaz2 = \"*Gelecegi_Yazanlar2*\"\n",
    "print(gel_yaz2.strip(\"*\"))\n",
    "\n",
    "# Uçlarda \"A\" ifadesi varsa onu kaldırır\n",
    "gel_yaz3 = \"AGelecegi_Yazanlar3A\"\n",
    "print(gel_yaz3.strip(\"A\"))"
   ]
  },
  {
   "cell_type": "markdown",
   "metadata": {},
   "source": [
    "#### *Herhangi bir veri tipiyle ilgili hangi metotlar var diye bakmak için dir() komutunu kullanırız.*"
   ]
  },
  {
   "cell_type": "code",
   "execution_count": 33,
   "metadata": {},
   "outputs": [
    {
     "data": {
      "text/plain": [
       "['__add__',\n",
       " '__class__',\n",
       " '__contains__',\n",
       " '__delattr__',\n",
       " '__dir__',\n",
       " '__doc__',\n",
       " '__eq__',\n",
       " '__format__',\n",
       " '__ge__',\n",
       " '__getattribute__',\n",
       " '__getitem__',\n",
       " '__getnewargs__',\n",
       " '__gt__',\n",
       " '__hash__',\n",
       " '__init__',\n",
       " '__init_subclass__',\n",
       " '__iter__',\n",
       " '__le__',\n",
       " '__len__',\n",
       " '__lt__',\n",
       " '__mod__',\n",
       " '__mul__',\n",
       " '__ne__',\n",
       " '__new__',\n",
       " '__reduce__',\n",
       " '__reduce_ex__',\n",
       " '__repr__',\n",
       " '__rmod__',\n",
       " '__rmul__',\n",
       " '__setattr__',\n",
       " '__sizeof__',\n",
       " '__str__',\n",
       " '__subclasshook__',\n",
       " 'capitalize',\n",
       " 'casefold',\n",
       " 'center',\n",
       " 'count',\n",
       " 'encode',\n",
       " 'endswith',\n",
       " 'expandtabs',\n",
       " 'find',\n",
       " 'format',\n",
       " 'format_map',\n",
       " 'index',\n",
       " 'isalnum',\n",
       " 'isalpha',\n",
       " 'isascii',\n",
       " 'isdecimal',\n",
       " 'isdigit',\n",
       " 'isidentifier',\n",
       " 'islower',\n",
       " 'isnumeric',\n",
       " 'isprintable',\n",
       " 'isspace',\n",
       " 'istitle',\n",
       " 'isupper',\n",
       " 'join',\n",
       " 'ljust',\n",
       " 'lower',\n",
       " 'lstrip',\n",
       " 'maketrans',\n",
       " 'partition',\n",
       " 'removeprefix',\n",
       " 'removesuffix',\n",
       " 'replace',\n",
       " 'rfind',\n",
       " 'rindex',\n",
       " 'rjust',\n",
       " 'rpartition',\n",
       " 'rsplit',\n",
       " 'rstrip',\n",
       " 'split',\n",
       " 'splitlines',\n",
       " 'startswith',\n",
       " 'strip',\n",
       " 'swapcase',\n",
       " 'title',\n",
       " 'translate',\n",
       " 'upper',\n",
       " 'zfill']"
      ]
     },
     "execution_count": 33,
     "metadata": {},
     "output_type": "execute_result"
    }
   ],
   "source": [
    "dir(str)"
   ]
  },
  {
   "cell_type": "code",
   "execution_count": 35,
   "metadata": {},
   "outputs": [
    {
     "name": "stdout",
     "output_type": "stream",
     "text": [
      "Gelecegi yazanlar\n",
      "Gelecegi Yazanlar\n"
     ]
    }
   ],
   "source": [
    "gel_yaz = \"gelecegi yazanlar\"\n",
    "\n",
    "# capitalize(): Sadece ilk harfi büyütür\n",
    "print(gel_yaz.capitalize())\n",
    "\n",
    "# title(): Her kelimenin ilk harfini büyütür\n",
    "print(gel_yaz.title())"
   ]
  },
  {
   "cell_type": "markdown",
   "metadata": {},
   "source": [
    "### *Karakter Dizilerinde Alt Küme İşlemleri: Substringler*"
   ]
  },
  {
   "cell_type": "code",
   "execution_count": 40,
   "metadata": {},
   "outputs": [
    {
     "name": "stdout",
     "output_type": "stream",
     "text": [
      "e\n",
      "l\n",
      "gel\n"
     ]
    }
   ],
   "source": [
    "# Substringler\n",
    "gel_yaz = \"gelecegi yazanlar\"\n",
    "\n",
    "# 1.indexteki ifadeye erişelim\n",
    "print(gel_yaz[1])\n",
    "\n",
    "# 14.indexteki ifadeye erişelim\n",
    "print(gel_yaz[14])\n",
    "\n",
    "# 0.indexten 3.indexe kadar (3.index dahil değil) olan ifadelere erişelim\n",
    "print(gel_yaz[0:3])"
   ]
  },
  {
   "cell_type": "markdown",
   "metadata": {},
   "source": [
    "### *Tip (Type) Dönüşümleri*"
   ]
  },
  {
   "cell_type": "code",
   "execution_count": 47,
   "metadata": {},
   "outputs": [
    {
     "name": "stdout",
     "output_type": "stream",
     "text": [
      "<class 'str'>\n",
      "6\n",
      "<class 'int'>\n",
      "<class 'float'>\n",
      "<class 'str'>\n"
     ]
    }
   ],
   "source": [
    "# input(): Kullanıcıdan bilgi almak için kullanılır\n",
    "toplama_bir = input()\n",
    "toplama_iki = input()\n",
    "\n",
    "# Sayısal bir ifade girmeme rağmen string olarak verdi bize türünü.\n",
    "print(type(toplama_bir))\n",
    "\n",
    "# String'i int'e çevirme\n",
    "yeni_toplama1 = int(toplama_bir)\n",
    "print(yeni_toplama1)\n",
    "\n",
    "print(type(yeni_toplama1))\n",
    "\n",
    "# int'i float'a çevirme\n",
    "float_sayi = float(21)\n",
    "print(type(float_sayi))\n",
    "\n",
    "# int'i string'e çevirme\n",
    "string_sayi = str(21)\n",
    "print(type(string_sayi))"
   ]
  },
  {
   "cell_type": "markdown",
   "metadata": {},
   "source": [
    "### *Kod Çıktısını Ekrana Yazdırmak: print Fonksiyonu*\n",
    "*Bu bölümde Python'a \"bu kodu ekrana yazdır\" demek için kullanılan print fonksiyonunu farklı bir açıdan ele alıyoruz.*\n",
    "\n",
    "> *Fonksiyonların genel amaçlarını biçimlendirmek için kullanılan alt görev belirticilere ***argüman*** denir.*"
   ]
  },
  {
   "cell_type": "code",
   "execution_count": 48,
   "metadata": {},
   "outputs": [
    {
     "name": "stdout",
     "output_type": "stream",
     "text": [
      "gelecegi_yazanlar\n"
     ]
    }
   ],
   "source": [
    "# sep argümanı ile ifadelerin arasına istediğimiz bir şeyi koyabiliyoruz\n",
    "print(\"gelecegi\", \"yazanlar\", sep= \"_\")"
   ]
  },
  {
   "cell_type": "markdown",
   "metadata": {},
   "source": [
    "### Fonksiyonların dokümanlarına yani detaylı bilgilerine erişmek için fonksiyon isminin başına ? işareti koyarız"
   ]
  },
  {
   "cell_type": "code",
   "execution_count": 49,
   "metadata": {},
   "outputs": [
    {
     "name": "stdout",
     "output_type": "stream",
     "text": [
      "\u001b[1;31mDocstring:\u001b[0m\n",
      "print(value, ..., sep=' ', end='\\n', file=sys.stdout, flush=False)\n",
      "\n",
      "Prints the values to a stream, or to sys.stdout by default.\n",
      "Optional keyword arguments:\n",
      "file:  a file-like object (stream); defaults to the current sys.stdout.\n",
      "sep:   string inserted between values, default a space.\n",
      "end:   string appended after the last value, default a newline.\n",
      "flush: whether to forcibly flush the stream.\n",
      "\u001b[1;31mType:\u001b[0m      builtin_function_or_method\n"
     ]
    }
   ],
   "source": [
    "?print "
   ]
  }
 ],
 "metadata": {
  "kernelspec": {
   "display_name": "Python 3.9.12 ('base')",
   "language": "python",
   "name": "python3"
  },
  "language_info": {
   "codemirror_mode": {
    "name": "ipython",
    "version": 3
   },
   "file_extension": ".py",
   "mimetype": "text/x-python",
   "name": "python",
   "nbconvert_exporter": "python",
   "pygments_lexer": "ipython3",
   "version": "3.9.12"
  },
  "orig_nbformat": 4,
  "vscode": {
   "interpreter": {
    "hash": "62164c8fb3cdc29ac6a738f2969b51adce5d9cfcd257e47b742b1ba3a188c6d5"
   }
  }
 },
 "nbformat": 4,
 "nbformat_minor": 2
}
