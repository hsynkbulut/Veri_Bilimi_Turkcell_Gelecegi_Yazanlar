{
 "cells": [
  {
   "cell_type": "markdown",
   "metadata": {},
   "source": [
    "## **1. Nesne Yönelimli Programlama**"
   ]
  },
  {
   "cell_type": "markdown",
   "metadata": {},
   "source": [
    "### **1.0. What is a class?**\n",
    "Sınıflar; benzer özellikler, ortak amaçlar taşıyan, içerisinde metod ve değişkenler olan yapılardır."
   ]
  },
  {
   "cell_type": "code",
   "execution_count": 2,
   "metadata": {},
   "outputs": [
    {
     "name": "stdout",
     "output_type": "stream",
     "text": [
      "Bu bir siniftir\n"
     ]
    }
   ],
   "source": [
    "# Basit bir sınıf tanımlama yapalım\n",
    "class basitSinif():\n",
    "    print(\"Bu bir siniftir\")"
   ]
  },
  {
   "cell_type": "markdown",
   "metadata": {},
   "source": [
    "### **1.1. Class Attributes**\n"
   ]
  },
  {
   "cell_type": "code",
   "execution_count": 10,
   "metadata": {},
   "outputs": [
    {
     "name": "stdout",
     "output_type": "stream",
     "text": [
      "VeriBilimci.bolum: \n",
      "VeriBilimci.sql: Evet\n"
     ]
    },
    {
     "data": {
      "text/plain": [
       "'Hayir'"
      ]
     },
     "execution_count": 10,
     "metadata": {},
     "output_type": "execute_result"
    }
   ],
   "source": [
    "class VeriBilimci():\n",
    "    # Sınıfın özelliklerini tanımlayalım\n",
    "    bolum = ''\n",
    "    sql = 'Evet'\n",
    "    deneyim_yili = 0\n",
    "    bildigi_diller = []\n",
    "\n",
    "# Sınıfların özelliklerine erişmek\n",
    "print(\"VeriBilimci.bolum:\", VeriBilimci.bolum)\n",
    "print(\"VeriBilimci.sql:\", VeriBilimci.sql)\n",
    "\n",
    "# Sınıfların özelliklerini değiştirmek \n",
    "VeriBilimci.sql = \"Hayir\"\n",
    "VeriBilimci.sql"
   ]
  },
  {
   "cell_type": "markdown",
   "metadata": {},
   "source": [
    "### **1.2. Sınıf örneklendirmesi (instantiation)**"
   ]
  },
  {
   "cell_type": "code",
   "execution_count": 23,
   "metadata": {},
   "outputs": [
    {
     "name": "stdout",
     "output_type": "stream",
     "text": [
      "ali.sql: Hayir\n",
      "ali.deneyim_yili: 0\n",
      "ali.bildigi_diller: ['Python']\n",
      "veli.bildigi_diller: ['Python']\n"
     ]
    }
   ],
   "source": [
    "# Genel sınıf özelliklerini barındıran alt kümeler/alt birimler oluşturma işlemine sınıf örneklendirmesi (instantiation) denir.\n",
    "ali = VeriBilimci()\n",
    "\n",
    "print(\"ali.sql:\", ali.sql)\n",
    "print(\"ali.deneyim_yili:\", ali.deneyim_yili)\n",
    "\n",
    "ali.bildigi_diller.append(\"Python\")\n",
    "print(\"ali.bildigi_diller:\", ali.bildigi_diller)\n",
    "\n",
    "veli = VeriBilimci()\n",
    "print(\"veli.bildigi_diller:\", veli.bildigi_diller) "
   ]
  },
  {
   "cell_type": "markdown",
   "metadata": {},
   "source": [
    "### **1.3. Örnek Özellikleri**\n",
    "Veli'nin Python bildiği bilgisine ulaştık yukarıdaki çıktıdan. Fakat Veli bu dili bilmiyor, Ali biliyor. \n",
    "\n",
    "Yani Ali için yaptığımız her değişiklik VeriBilimci adındaki sınıfımızı komple etkiliyor. Bunu önlemek için neler yapabiliriz, bir bakalım.\n",
    "\n",
    "Örneklerin her birisinin kendi içinde değişebilir özelliklerden oluştuğu bilgisini Python'a vermemiz gerekiyor."
   ]
  },
  {
   "cell_type": "code",
   "execution_count": 24,
   "metadata": {},
   "outputs": [
    {
     "name": "stdout",
     "output_type": "stream",
     "text": [
      "ali.bildigi_diller: ['Python']\n",
      "veli.bildigi_diller: []\n"
     ]
    }
   ],
   "source": [
    "# self: örneklemleri temsil eder. Sınıf örneklerinin temsil edilmesini, onlara bir işlem yapılmasını sağlayan temsilcidir.\n",
    "\n",
    "class VeriBilimci():\n",
    "    # örnek özelliği tanımlayalım\n",
    "    def __init__(self):\n",
    "        self.bildigi_diller = []\n",
    "\n",
    "ali = VeriBilimci()\n",
    "ali.bildigi_diller.append(\"Python\")\n",
    "print(\"ali.bildigi_diller:\", ali.bildigi_diller)\n",
    "\n",
    "veli = VeriBilimci()\n",
    "print(\"veli.bildigi_diller:\", veli.bildigi_diller)"
   ]
  },
  {
   "cell_type": "code",
   "execution_count": 26,
   "metadata": {},
   "outputs": [
    {
     "name": "stdout",
     "output_type": "stream",
     "text": [
      "selin.bildigi_diller: ['C#']\n"
     ]
    }
   ],
   "source": [
    "class VeriBilimci():\n",
    "     # Sınıfın özelliklerini tanımlayalım\n",
    "    bolum = ''\n",
    "    sql = ''\n",
    "    deneyim_yili = 0\n",
    "    bildigi_diller = [\"R\", \"Python\"]\n",
    "\n",
    "    # Örnek özelliği tanımlayalım (Her sınıf öğesine özgü olan özellikler)\n",
    "    def __init__(self):\n",
    "        self.bildigi_diller = []\n",
    "\n",
    "selin = VeriBilimci()\n",
    "selin.bildigi_diller.append(\"C#\")\n",
    "print(\"selin.bildigi_diller:\", selin.bildigi_diller)"
   ]
  },
  {
   "cell_type": "code",
   "execution_count": 28,
   "metadata": {},
   "outputs": [
    {
     "data": {
      "text/plain": [
       "['R', 'Python']"
      ]
     },
     "execution_count": 28,
     "metadata": {},
     "output_type": "execute_result"
    }
   ],
   "source": [
    "VeriBilimci.bildigi_diller"
   ]
  },
  {
   "cell_type": "markdown",
   "metadata": {},
   "source": [
    "### **1.4. Örnek Metodları**"
   ]
  },
  {
   "cell_type": "code",
   "execution_count": 31,
   "metadata": {},
   "outputs": [
    {
     "name": "stdout",
     "output_type": "stream",
     "text": [
      "ahmet.bildigi_diller: ['R']\n",
      "veli.bildigi_diller: ['Python']\n"
     ]
    }
   ],
   "source": [
    "class VeriBilimci():\n",
    "    calisanlar = []\n",
    "    def __init__(self):\n",
    "        self.bildigi_diller = []\n",
    "        self.bolum = ''\n",
    "    def dil_ekle(self, yeni_dil):\n",
    "        self.bildigi_diller.append(yeni_dil)\n",
    "\n",
    "ahmet = VeriBilimci()\n",
    "ahmet.dil_ekle(\"R\")\n",
    "print(\"ahmet.bildigi_diller:\", ahmet.bildigi_diller)\n",
    "\n",
    "veli = VeriBilimci()\n",
    "veli.dil_ekle(\"Python\")\n",
    "print(\"veli.bildigi_diller:\", veli.bildigi_diller)"
   ]
  },
  {
   "cell_type": "markdown",
   "metadata": {},
   "source": [
    "### **1.5. Miras Yapıları (inheritance)**"
   ]
  },
  {
   "cell_type": "code",
   "execution_count": 39,
   "metadata": {},
   "outputs": [
    {
     "name": "stdout",
     "output_type": "stream",
     "text": [
      "veribilimci1.Programming: \n"
     ]
    },
    {
     "ename": "AttributeError",
     "evalue": "'Marketing' object has no attribute 'Address'",
     "output_type": "error",
     "traceback": [
      "\u001b[1;31m---------------------------------------------------------------------------\u001b[0m",
      "\u001b[1;31mAttributeError\u001b[0m                            Traceback (most recent call last)",
      "\u001b[1;32mc:\\Users\\HUSEY\\OneDrive\\Masaüstü\\Genel Dosyalar\\Yazılım\\Veri_Bilimi_Turkcell_Gelecegi_Yazanlar-master\\3. Python\\python401.ipynb Hücre 15\u001b[0m in \u001b[0;36m<cell line: 19>\u001b[1;34m()\u001b[0m\n\u001b[0;32m     <a href='vscode-notebook-cell:/c%3A/Users/HUSEY/OneDrive/Masa%C3%BCst%C3%BC/Genel%20Dosyalar/Yaz%C4%B1l%C4%B1m/Veri_Bilimi_Turkcell_Gelecegi_Yazanlar-master/3.%20Python/python401.ipynb#X31sZmlsZQ%3D%3D?line=15'>16</a>\u001b[0m \u001b[39mprint\u001b[39m(\u001b[39m\"\u001b[39m\u001b[39mveribilimci1.Programming:\u001b[39m\u001b[39m\"\u001b[39m, veribilimci1\u001b[39m.\u001b[39mProgramming)\n\u001b[0;32m     <a href='vscode-notebook-cell:/c%3A/Users/HUSEY/OneDrive/Masa%C3%BCst%C3%BC/Genel%20Dosyalar/Yaz%C4%B1l%C4%B1m/Veri_Bilimi_Turkcell_Gelecegi_Yazanlar-master/3.%20Python/python401.ipynb#X31sZmlsZQ%3D%3D?line=17'>18</a>\u001b[0m mar1 \u001b[39m=\u001b[39m Marketing()\n\u001b[1;32m---> <a href='vscode-notebook-cell:/c%3A/Users/HUSEY/OneDrive/Masa%C3%BCst%C3%BC/Genel%20Dosyalar/Yaz%C4%B1l%C4%B1m/Veri_Bilimi_Turkcell_Gelecegi_Yazanlar-master/3.%20Python/python401.ipynb#X31sZmlsZQ%3D%3D?line=18'>19</a>\u001b[0m \u001b[39mprint\u001b[39m(\u001b[39m\"\u001b[39m\u001b[39mmar1.FirstName:\u001b[39m\u001b[39m\"\u001b[39m, mar1\u001b[39m.\u001b[39;49mAddress)\n",
      "\u001b[1;31mAttributeError\u001b[0m: 'Marketing' object has no attribute 'Address'"
     ]
    }
   ],
   "source": [
    "class Employees():\n",
    "    def __init__(self):\n",
    "        self.FirstName = \"\"\n",
    "        self.LastName = \"\"\n",
    "        self.Address = \"\"\n",
    "\n",
    "class DataScience(Employees):\n",
    "    def __init__(self):\n",
    "        self.Programming = \"\"\n",
    "\n",
    "class Marketing(Employees):\n",
    "    def __init__(self):\n",
    "        self.StoryTelling = \"\"\n",
    "\n",
    "veribilimci1 = DataScience()\n",
    "print(\"veribilimci1.Programming:\", veribilimci1.Programming)\n",
    "\n",
    "mar1 = Marketing()\n",
    "print(\"mar1.Address:\", mar1.Address) # Hata verdi, bir de aşağıdaki yolla deneyelim bunu"
   ]
  },
  {
   "cell_type": "code",
   "execution_count": 40,
   "metadata": {},
   "outputs": [
    {
     "data": {
      "text/plain": [
       "'Zafer Mahallesi'"
      ]
     },
     "execution_count": 40,
     "metadata": {},
     "output_type": "execute_result"
    }
   ],
   "source": [
    "class Employee_yeni():\n",
    "    def __init__(self, FirstName, LastName, Address):\n",
    "        self.FirstName = FirstName\n",
    "        self.LastName = LastName\n",
    "        self.Address = Address\n",
    "\n",
    "ali = Employee_yeni(\"Ali\", \"Sancak\", \"Zafer Mahallesi\")\n",
    "ali.Address"
   ]
  },
  {
   "cell_type": "markdown",
   "metadata": {},
   "source": [
    "## **2. Fonksiyonel Programlama**"
   ]
  },
  {
   "cell_type": "markdown",
   "metadata": {},
   "source": [
    "### **2.1. Fonksiyonel Programlamaya Giriş**\n",
    "- Fonksiyonlar, dilin baştacıdır.\n",
    "\n",
    "- Fonksiyonlar, birinci sınıf nesnelerdir\n",
    "\n",
    "- Yan etkisiz fonksiyonlar vardır. (stateless, girdi-cikti)\n",
    "\n",
    "- Yüksek seviye fonksiyonlar olması (daha az çabayla, daha fazla iş yapma imkanı sağlarlar)\n",
    "\n",
    "- Vektörel operasyonlar\n"
   ]
  },
  {
   "cell_type": "markdown",
   "metadata": {},
   "source": [
    "### **2.2. Yan Etkisiz Fonksiyonlar (Pure Functions)**"
   ]
  },
  {
   "cell_type": "markdown",
   "metadata": {},
   "source": [
    "#### **Örnek 1: Yan Etki**"
   ]
  },
  {
   "cell_type": "code",
   "execution_count": 42,
   "metadata": {},
   "outputs": [
    {
     "name": "stdout",
     "output_type": "stream",
     "text": [
      "11\n",
      "7\n"
     ]
    }
   ],
   "source": [
    "A = 5\n",
    "\n",
    "def impure_sum(b):\n",
    "    return b + A\n",
    "\n",
    "def pure_sum(a,b):\n",
    "    return a + b\n",
    "\n",
    "print(impure_sum(6)) # Çıktı: 15 olacak. \n",
    "# Fakat biz A değişkeninin değerini değiştirdiğimiz zaman bu çıktı değişecek. \n",
    "# Yani fonksiyonumuz dışa bağımlı, etkileniyor bu durumdan. İşte yan etki dediğimiz olay bu.\n",
    "\n",
    "print(pure_sum(3,4)) # Bunun çıktısını dışarıdan etkileyen herhangi bir şey yok. \n",
    "# Dolayısıyla bu dışa bağımlı değil ve yan etki oluşmaz burada."
   ]
  },
  {
   "cell_type": "markdown",
   "metadata": {},
   "source": [
    "#### **Örnek 2: Ölümcül Yan Etkiler**"
   ]
  },
  {
   "cell_type": "code",
   "execution_count": 43,
   "metadata": {},
   "outputs": [
    {
     "name": "stdout",
     "output_type": "stream",
     "text": [
      "lc.lines: []\n",
      "lc.count(): 0\n",
      "lc.lines: ['Bunlar bir denemedir\\n', '\\n', 'asdasd\\n', '\\n', 'asdasd\\n', 'asdasd']\n",
      "lc.count(): 6\n"
     ]
    }
   ],
   "source": [
    "# OOP (Nesne Yönelimli Programlama) ile\n",
    "class LineCounter:\n",
    "    def __init__(self, filename):\n",
    "        self.file = open(filename, 'r')\n",
    "        self.lines = []\n",
    "\n",
    "    def read(self):\n",
    "        self.lines = [line for line in self.file]\n",
    "    \n",
    "    def count(self):\n",
    "        return len(self.lines)\n",
    "\n",
    "lc = LineCounter('deneme.txt')\n",
    "\n",
    "print(\"lc.lines:\", lc.lines)\n",
    "print(\"lc.count():\", lc.count())\n",
    "\n",
    "lc.read()\n",
    "\n",
    "print(\"lc.lines:\", lc.lines)\n",
    "print(\"lc.count():\", lc.count())\n",
    "\n",
    "# Çıktılardan da gördüğünüz üzere read() kullanmadan önce boş çıktı verirken, read()'den sonra dolu çıktı verdi.\n",
    "# İşte bu duruma iç nesnenin durum değişmesi denir. "
   ]
  },
  {
   "cell_type": "code",
   "execution_count": 46,
   "metadata": {},
   "outputs": [
    {
     "name": "stdout",
     "output_type": "stream",
     "text": [
      "example_lines: ['Bunlar bir denemedir\\n', '\\n', 'asdasd\\n', '\\n', 'asdasd\\n', 'asdasd']\n",
      "lines_count: 6\n"
     ]
    }
   ],
   "source": [
    "# FP (Fonksiyonel Programlama) ile \n",
    "def read(filename):\n",
    "    with open(filename, 'r') as f:\n",
    "        return [line for line in f]\n",
    "\n",
    "def count(lines):\n",
    "    return len(lines)\n",
    "\n",
    "example_lines = read('deneme.txt')\n",
    "lines_count = count(example_lines)\n",
    "\n",
    "print(\"example_lines:\", example_lines)\n",
    "print(\"lines_count:\", lines_count)"
   ]
  },
  {
   "cell_type": "markdown",
   "metadata": {},
   "source": [
    "***NOT:*** OOP'daki saf olmayan fonksiyonlar ve ölümcül yan etkili fonksiyonlar burada ifade ettiğimiz şekliyle sınıfların içerisinde tanımlanan yapıların birbirlerini etkilemesi anlamına gelirken FP'de ise gayet bağımsız, birbirinin içinde peş peşe kullanılabilen daha rahat daha bağımsız ancak bir girdi verildiğinde çıktı verileceğini bildiğimiz bir programlama yapısı anlamına gelir."
   ]
  },
  {
   "cell_type": "markdown",
   "metadata": {},
   "source": [
    "### **2.3. İsimsiz Fonksiyonlar (Anonymous Functions)**"
   ]
  },
  {
   "cell_type": "code",
   "execution_count": 52,
   "metadata": {},
   "outputs": [
    {
     "name": "stdout",
     "output_type": "stream",
     "text": [
      "9\n",
      "9\n",
      "[('b', 3), ('a', 8), ('d', 12), ('c', 1)]\n"
     ]
    },
    {
     "data": {
      "text/plain": [
       "[('c', 1), ('b', 3), ('a', 8), ('d', 12)]"
      ]
     },
     "execution_count": 52,
     "metadata": {},
     "output_type": "execute_result"
    }
   ],
   "source": [
    "# İki sayıyı toplayan fonksiyon yazalım\n",
    "def old_sum(a, b):\n",
    "    return a + b\n",
    "\n",
    "print(old_sum(4,5))\n",
    "\n",
    "# Aynı fonksiyonu lambda ile daha kısa bir şekilde yazabiliriz\n",
    "new_sum = lambda a,b: a + b\n",
    "print(new_sum(4,5))\n",
    " \n",
    "\n",
    "sirasiz_liste = [('b', 3), ('a', 8), ('d', 12), ('c', 1)]\n",
    "print(sirasiz_liste)\n",
    "\n",
    "# Listeyi sıralayalım\n",
    "sorted(sirasiz_liste, key= lambda x: x[1])"
   ]
  },
  {
   "cell_type": "markdown",
   "metadata": {},
   "source": [
    "### **2.4. Vektörel Operasyonlar (Vectorial Operations)**"
   ]
  },
  {
   "cell_type": "code",
   "execution_count": 53,
   "metadata": {},
   "outputs": [
    {
     "name": "stdout",
     "output_type": "stream",
     "text": [
      "[2, 6, 12, 20]\n",
      "[ 2  6 12 20]\n"
     ]
    }
   ],
   "source": [
    "# OOP\n",
    "a = [1,2,3,4]\n",
    "b = [2,3,4,5]\n",
    "\n",
    "ab = []\n",
    "\n",
    "for i in range(0, len(a)):\n",
    "    ab.append(a[i] * b[i])\n",
    "\n",
    "print(ab)\n",
    "\n",
    "# FP\n",
    "import numpy as np\n",
    "a = np.array([1,2,3,4])\n",
    "b = np.array([2,3,4,5])\n",
    "\n",
    "ab2 = a * b \n",
    "\n",
    "print(ab2)"
   ]
  },
  {
   "cell_type": "markdown",
   "metadata": {},
   "source": [
    "### **2.5. Map, filter ve reduce Fonksiyonları**\n",
    "- map() fonksiyonu bize, verilen bir vektörün (listenin) içerisinde belirli bir fonksiyonu çalıştırma imkanı verir. Çalıştırdığı fonksiyon isimsiz bir fonksiyondur.\n",
    "\n",
    "- filter() fonksiyonu da benzer şekilde bir fonksiyon ve iteratif bir nesne alarak çalışır. Burada filter() iteratif nesne alır, bu nesne üzerinden başka bir iteratif nesne oluşturulur ve iteratif nesne içinde aradığı şartın sağlandığı tüm elemanlar filtrelenir. Aldığı vektör/liste içerisinde herhangi bir işlem yapmaz!\n",
    "\n",
    "- reduce() fonksiyonu, diğer 2 fonksiyona benzerdir. Fakat indirgeme işlemi yapar."
   ]
  },
  {
   "cell_type": "code",
   "execution_count": 54,
   "metadata": {},
   "outputs": [
    {
     "name": "stdout",
     "output_type": "stream",
     "text": [
      "11\n",
      "12\n",
      "13\n",
      "14\n",
      "15\n"
     ]
    },
    {
     "data": {
      "text/plain": [
       "[11, 12, 13, 14, 15]"
      ]
     },
     "execution_count": 54,
     "metadata": {},
     "output_type": "execute_result"
    }
   ],
   "source": [
    "liste = [1,2,3,4,5]\n",
    "\n",
    "# Klasik yol\n",
    "for i in liste:\n",
    "    print(i+10)\n",
    "\n",
    "# map ile\n",
    "list(map(lambda x: x + 10, liste))\n"
   ]
  },
  {
   "cell_type": "code",
   "execution_count": 55,
   "metadata": {},
   "outputs": [
    {
     "data": {
      "text/plain": [
       "[2, 4, 6, 8, 10]"
      ]
     },
     "execution_count": 55,
     "metadata": {},
     "output_type": "execute_result"
    }
   ],
   "source": [
    "liste = [1,2,3,4,5,6,7,8,9,10]\n",
    "list(filter(lambda x: x % 2 == 0, liste))"
   ]
  },
  {
   "cell_type": "code",
   "execution_count": 56,
   "metadata": {},
   "outputs": [
    {
     "data": {
      "text/plain": [
       "10"
      ]
     },
     "execution_count": 56,
     "metadata": {},
     "output_type": "execute_result"
    }
   ],
   "source": [
    "from functools import reduce\n",
    "liste = [1,2,3,4]\n",
    "\n",
    "reduce(lambda a,b: a + b, liste)"
   ]
  },
  {
   "cell_type": "markdown",
   "metadata": {},
   "source": [
    "## **3. Modül Oluşturmak ve İstisnalar**"
   ]
  },
  {
   "cell_type": "markdown",
   "metadata": {},
   "source": [
    "### **3.1. Modül Oluşturmak**"
   ]
  },
  {
   "cell_type": "code",
   "execution_count": 60,
   "metadata": {},
   "outputs": [
    {
     "name": "stdout",
     "output_type": "stream",
     "text": [
      "1872.0\n"
     ]
    }
   ],
   "source": [
    "# Modül kullanma 1.yol\n",
    "import HesapModulu\n",
    "HesapModulu.yeni_maas(1560)"
   ]
  },
  {
   "cell_type": "code",
   "execution_count": 58,
   "metadata": {},
   "outputs": [
    {
     "name": "stdout",
     "output_type": "stream",
     "text": [
      "1020.0\n"
     ]
    }
   ],
   "source": [
    "# Modül kullanma 2.yol\n",
    "import HesapModulu as hm\n",
    "hm.yeni_maas(850)"
   ]
  },
  {
   "cell_type": "code",
   "execution_count": 59,
   "metadata": {},
   "outputs": [
    {
     "name": "stdout",
     "output_type": "stream",
     "text": [
      "2160.0\n"
     ]
    }
   ],
   "source": [
    "# Modül kullanma 3.yol\n",
    "\n",
    "# Hesap modülünden yeni_maas fonksiyonunu al\n",
    "from HesapModulu import yeni_maas\n",
    "yeni_maas(1800)"
   ]
  },
  {
   "cell_type": "markdown",
   "metadata": {},
   "source": [
    "### **3.2. Hatalar / İstisnalar (Exceptions)**"
   ]
  },
  {
   "cell_type": "code",
   "execution_count": 66,
   "metadata": {},
   "outputs": [
    {
     "name": "stdout",
     "output_type": "stream",
     "text": [
      "Payda da sıfır olmaz\n"
     ]
    }
   ],
   "source": [
    "# try: dene\n",
    "# except: bunu istisna olarak gör\n",
    "\n",
    "# ZeroDivisionError Hatası\n",
    "a = 10\n",
    "b = 0\n",
    "\n",
    "try:\n",
    "    print(a/b)\n",
    "except ZeroDivisionError:\n",
    "    print(\"Payda da sıfır olmaz\")"
   ]
  },
  {
   "cell_type": "code",
   "execution_count": 68,
   "metadata": {},
   "outputs": [
    {
     "name": "stdout",
     "output_type": "stream",
     "text": [
      "Sayı ve string problemi\n"
     ]
    }
   ],
   "source": [
    "# Tip Hatası\n",
    "a = 10\n",
    "b = \"2\"\n",
    "\n",
    "try:\n",
    "    print(a/b)\n",
    "except TypeError:\n",
    "    print(\"Sayı ve string problemi\")"
   ]
  }
 ],
 "metadata": {
  "kernelspec": {
   "display_name": "Python 3.9.12 ('base')",
   "language": "python",
   "name": "python3"
  },
  "language_info": {
   "codemirror_mode": {
    "name": "ipython",
    "version": 3
   },
   "file_extension": ".py",
   "mimetype": "text/x-python",
   "name": "python",
   "nbconvert_exporter": "python",
   "pygments_lexer": "ipython3",
   "version": "3.9.12"
  },
  "orig_nbformat": 4,
  "vscode": {
   "interpreter": {
    "hash": "62164c8fb3cdc29ac6a738f2969b51adce5d9cfcd257e47b742b1ba3a188c6d5"
   }
  }
 },
 "nbformat": 4,
 "nbformat_minor": 2
}
