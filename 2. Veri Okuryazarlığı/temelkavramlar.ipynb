{
 "cells": [
  {
   "cell_type": "markdown",
   "metadata": {},
   "source": [
    "<a id = \"0\"></a><h1 id=\"Introduction\"><span class=\"label label-default\" style=\"background-color:#2E86C1; border-radius:8px; font-weight: bold; font-family:Verdana; font-size:22px; color:#FBFAFC; \">Veri Okuryazarlığı Nedir? </span></h1>\n",
    "\n",
    "*Günlük hayatta veriyle temas ettiğimiz ilk anlardaki basit veri yorumlama kabiliyetleridir.*\n",
    "\n",
    "<a id = \"1\"></a><h1 id=\"Introduction\"><span class=\"label label-default\" style=\"background-color:#2E86C1; border-radius:8px; font-weight: bold; font-family:Verdana; font-size:22px; color:#FBFAFC; \">Temel Kavramlar </span></h1>\n",
    "\n",
    "***Popülasyon:*** *İlgilendiğimiz ana kitlemizdir, hedef kitlemizdir. Verinin tamamına **popülasyon** denir.*\n",
    "\n",
    "***Örneklem:*** *Popülasyon yani ana kitle içerisinden seçilen bir alt kümedir. Veriyi temsil eden alt kümeye **Örneklem** denir.*\n",
    "\n",
    "![image.png](../images/veri_okuryazarligi/populasyon_orneklem.jpg)\n",
    "\n",
    "*Burada önemli olan nokta; buradaki örneklemin popülasyonu çok iyi temsil etmesi gerektiğidir.*\n",
    "\n",
    "***Gözlem Birimi:*** *Araştırmada incelediğimiz birimlerdir. Örneklem alt kümesinden seçtiğimiz her bir eleman incelediğimiz, odaklandığımız ana birim **Gözlem Birimi** olarak adlandırılır.* \n",
    "\n",
    "![image.png](../images/veri_okuryazarligi/gozlem_birimi.jpg)\n",
    "\n",
    "<a id = \"2\"></a><h1 id=\"Introduction\"><span class=\"label label-default\" style=\"background-color:#2E86C1; border-radius:8px; font-weight: bold; font-family:Verdana; font-size:22px; color:#FBFAFC; \">Değişken ve Değişken Türleri </span></h1>\n",
    "\n",
    "***Değişken:*** *Birimden birime farklı değerler alan niceliktir.*\n",
    "\n",
    "***Değişken Türleri***\n",
    "-\t*Sayısal Değişkenler (nicel, kantitatif)*\n",
    "-\t*Kategorik Değişkenler (nitel, kalitatif)*\n",
    "\n",
    "***Örn:*** *“Cinsiyet” **kategorik** değişkendir. “Kadın”, “Erkek” ise bu kategorik değişkenin **sınıflarıdır.***\n",
    "\n",
    "---\n",
    "\n",
    "<a id = \"3\"></a><h1 id=\"Introduction\"><span class=\"label label-default\" style=\"background-color:#2E86C1; border-radius:8px; font-weight: bold; font-family:Verdana; font-size:22px; color:#FBFAFC; \">Ölçek Türleri </span></h1>\n",
    "\n",
    "***Ölçek:*** *Bir değişkenin değerlerini insan olarak okuyup anlayabilmemiz adına bunu ölçmemiz gerekiyor. İşte buradaki ölçmek ifadesi sayısal ve kategorik değişkenler için ayrılıyor.*\n",
    "\n",
    "*Şöyle ki elimizdeki ölçek türleri;*\n",
    "-\t*Sayısal değişkenler için: Aralık ve Oran*\n",
    "-\t*Kategorik değişkenler için: Nominal ve Ordinal*\n",
    "\n",
    "> *Başlangıç noktası sıfır olmayan sayısal değişkenlerin ölçek türü **aralıktır.***\n",
    "> *Başlangıç noktasını sıfır kabul eden sayısal değişkenlerin ölçek türü **orandır.*** \n",
    "\n",
    "*Kategorik değişkenlerin sınıfları arasında fark olmadığında buna **nominal ölçek** türü ile ölçülmüştür diyoruz.*\n",
    "\n",
    "***Örn:*** *Cinsiyet kategorik bir değişkendir. “Kadın” ve “Erkek” ise kategorik değişken sınıflarıdır. Bu iki sınıf arasında fark olmadığı için bu değişken nominal ölçek türüne sahiptir.* \n",
    "\n",
    "***Örn 2:*** *“Rütbe” kategorik bir değişken. Bu kategorik değişkenin sınıfları:* \n",
    "> *Onbaşı < Yüzbaşı < Binbaşı < Albay* \n",
    "*Değişkenin sınıfları arasında fark olduğu için “Rütbe” değişkeni ordinaldir.*"
   ]
  }
 ],
 "metadata": {
  "kernelspec": {
   "display_name": "Python 3.9.12 ('base')",
   "language": "python",
   "name": "python3"
  },
  "language_info": {
   "name": "python",
   "version": "3.9.12"
  },
  "orig_nbformat": 4,
  "vscode": {
   "interpreter": {
    "hash": "62164c8fb3cdc29ac6a738f2969b51adce5d9cfcd257e47b742b1ba3a188c6d5"
   }
  }
 },
 "nbformat": 4,
 "nbformat_minor": 2
}
