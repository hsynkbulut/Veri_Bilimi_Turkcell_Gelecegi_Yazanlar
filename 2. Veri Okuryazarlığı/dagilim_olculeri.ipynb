{
 "cells": [
  {
   "cell_type": "markdown",
   "metadata": {},
   "source": [
    "<a id = \"0\"></a><h1 id=\"Introduction\"><span class=\"label label-default\" style=\"background-color:#2E86C1; border-radius:8px; font-weight: bold; font-family:Verdana; font-size:22px; color:#FBFAFC; \">Dağılım ölçüleri </span></h1>\n",
    "\n",
    "***Dağılım:*** *Elimizdeki değişkenin değerlerinin ne şekilde dağıldığını ifade eden ölçülerdir. Elimizdeki değişkenin maksimum-minimum değerleri veya ortalama etrafındaki durumunun ne olduğunu anlamaya çalışmak amaçlarıyla kullanılan ölçülerdir.*\n",
    "\n",
    "***Değişim Aralığı:*** *Bir değişkendeki (bir serideki) maksimum değerden minimum değeri çıkarttığımızda elde ettiğimiz değerdir.* \n",
    "\n",
    "> *Değişim Aralığı = Maksimum Değer – Minimum Değer*\n",
    "\n",
    "***Standart Sapma:*** *Ortalamadan olan sapmaların genel bir ölçüsüdür.*\n",
    "\n",
    "![image.png](../images/veri_okuryazarligi/standart_sapma.jpg)\n",
    "\n",
    "> ***NOT:*** *Yukarıdaki formül Popülasyonun standart sapması’nı (σ) verir. Normal standart sapmayı (s) değil!*\n",
    "\n",
    "***Varyans:*** *Standart sapmanın karesidir. (Ortalamadan olan sapmaların karelerinin ortalamasıdır)*\n",
    "\n",
    "![image.png](../images/veri_okuryazarligi/varyans.jpg)\n",
    "\n",
    "***Çarpıklık:*** *Değişken dağılımının simetrik olamayışıdır.*\n",
    "\n",
    "![image.png](../images/veri_okuryazarligi/carpiklik.jpg)\n",
    "\n",
    "***Basıklık:*** *Değişken dağılımının sivriliğini / basıklığını gösteren istatistiktir.*\n",
    "\n",
    "![image.png](../images/veri_okuryazarligi/basiklik.jpg)\n",
    "\n",
    "![image.png](../images/veri_okuryazarligi/basiklik2.jpg)"
   ]
  }
 ],
 "metadata": {
  "kernelspec": {
   "display_name": "Python 3.9.12 ('base')",
   "language": "python",
   "name": "python3"
  },
  "language_info": {
   "name": "python",
   "version": "3.9.12"
  },
  "orig_nbformat": 4,
  "vscode": {
   "interpreter": {
    "hash": "62164c8fb3cdc29ac6a738f2969b51adce5d9cfcd257e47b742b1ba3a188c6d5"
   }
  }
 },
 "nbformat": 4,
 "nbformat_minor": 2
}
