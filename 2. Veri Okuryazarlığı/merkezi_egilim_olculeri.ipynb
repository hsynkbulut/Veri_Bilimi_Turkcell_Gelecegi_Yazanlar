{
 "cells": [
  {
   "cell_type": "markdown",
   "metadata": {},
   "source": [
    "<a id = \"0\"></a><h1 id=\"Introduction\"><span class=\"label label-default\" style=\"background-color:#2E86C1; border-radius:8px; font-weight: bold; font-family:Verdana; font-size:22px; color:#FBFAFC; \">Merkezi Eğilim Ölçüleri </span></h1>\n",
    "\n",
    "*Veri setini betimlemek için kullanılan tekniklerden biridir.*\n",
    "\n",
    "***Aritmetik Ortalama:*** *Bir seride (değişkende) yer alan tüm değerlerin toplanması ve birim sayısına bölünmesi ile elde edilen istatistiktir.*\n",
    "\n",
    "![image.png](../images/veri_okuryazarligi/aritmetik_ortalama.jpg)\n",
    "\n",
    "***Medyan:*** *Bir seriyi küçükten büyüğe veya büyükten küçüğe sıraladığımızda tam orta noktadan seriyi iki eşit parçaya ayıran değere **medyan** adı verilir.*\n",
    "\n",
    "![image.png](../images/veri_okuryazarligi/medyan.jpg)\n",
    "\n",
    "<a id = \"1\"></a><h1 id=\"Introduction\"><span class=\"label label-default\" style=\"background-color:#2E86C1; border-radius:8px; font-weight: bold; font-family:Verdana; font-size:22px; color:#FBFAFC; \">Medyan ve Ortalama Karşılaştırması </span></h1>\n",
    "\n",
    "*Aritmetik ortalama, seri dağılımının (değişkenin dağılımının) simetrik olduğu bilindiğinde kullanılabilir.*\n",
    "\n",
    "> *Ortalama ile medyanın birbirine çok yakın olması bu dağılımın düzgün (homojen) olduğu anlamına gelir.*\n",
    "\n",
    "***Mod:*** *Bir seride (değişkende) en çok tekrar eden değere **Mod** adı verilir.*\n",
    "\n",
    "***Kartiller:*** *Küçükten büyüğe sıralanan bir seriyi 4 parçaya ayıran değerlere **kartiller** denir. Kartiller, serinin merkezi eğilimiyle ilgili bilgi almak için kullanılır. Aynı zamanda kartiller dağılım ölçülerinde dağılımla ilgili bilgi vermek/almak için de kullanılabilir.*\n",
    "\n",
    "![image.png](../images/veri_okuryazarligi/kartiller.jpg)"
   ]
  }
 ],
 "metadata": {
  "kernelspec": {
   "display_name": "Python 3.9.12 ('base')",
   "language": "python",
   "name": "python3"
  },
  "language_info": {
   "name": "python",
   "version": "3.9.12"
  },
  "orig_nbformat": 4,
  "vscode": {
   "interpreter": {
    "hash": "62164c8fb3cdc29ac6a738f2969b51adce5d9cfcd257e47b742b1ba3a188c6d5"
   }
  }
 },
 "nbformat": 4,
 "nbformat_minor": 2
}
